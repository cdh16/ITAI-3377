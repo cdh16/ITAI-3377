{
  "nbformat": 4,
  "nbformat_minor": 0,
  "metadata": {
    "colab": {
      "provenance": []
    },
    "kernelspec": {
      "name": "python3",
      "display_name": "Python 3"
    },
    "language_info": {
      "name": "python"
    },
    "widgets": {
      "application/vnd.jupyter.widget-state+json": {
        "7ea1a0573a584381b773a6c1df639977": {
          "model_module": "@jupyter-widgets/controls",
          "model_name": "HBoxModel",
          "model_module_version": "1.5.0",
          "state": {
            "_dom_classes": [],
            "_model_module": "@jupyter-widgets/controls",
            "_model_module_version": "1.5.0",
            "_model_name": "HBoxModel",
            "_view_count": null,
            "_view_module": "@jupyter-widgets/controls",
            "_view_module_version": "1.5.0",
            "_view_name": "HBoxView",
            "box_style": "",
            "children": [
              "IPY_MODEL_3e2cf0ad31d446bdb511a948b1e9f2b4",
              "IPY_MODEL_43b326f88e4444949950c8966fc91abc",
              "IPY_MODEL_6b656fec74a94e3eadddb52e566f1fd3"
            ],
            "layout": "IPY_MODEL_f15d4458cc704f8986bc79d4ccce1d6a"
          }
        },
        "3e2cf0ad31d446bdb511a948b1e9f2b4": {
          "model_module": "@jupyter-widgets/controls",
          "model_name": "HTMLModel",
          "model_module_version": "1.5.0",
          "state": {
            "_dom_classes": [],
            "_model_module": "@jupyter-widgets/controls",
            "_model_module_version": "1.5.0",
            "_model_name": "HTMLModel",
            "_view_count": null,
            "_view_module": "@jupyter-widgets/controls",
            "_view_module_version": "1.5.0",
            "_view_name": "HTMLView",
            "description": "",
            "description_tooltip": null,
            "layout": "IPY_MODEL_1847748adc40458db942726575dcda56",
            "placeholder": "​",
            "style": "IPY_MODEL_ef259c53d3e84ac0be1947b1f3b4e8f3",
            "value": "Sanity Checking DataLoader 0: 100%"
          }
        },
        "43b326f88e4444949950c8966fc91abc": {
          "model_module": "@jupyter-widgets/controls",
          "model_name": "FloatProgressModel",
          "model_module_version": "1.5.0",
          "state": {
            "_dom_classes": [],
            "_model_module": "@jupyter-widgets/controls",
            "_model_module_version": "1.5.0",
            "_model_name": "FloatProgressModel",
            "_view_count": null,
            "_view_module": "@jupyter-widgets/controls",
            "_view_module_version": "1.5.0",
            "_view_name": "ProgressView",
            "bar_style": "",
            "description": "",
            "description_tooltip": null,
            "layout": "IPY_MODEL_07c95e10020b4d67bce6fe834fd55af6",
            "max": 1,
            "min": 0,
            "orientation": "horizontal",
            "style": "IPY_MODEL_8c9be06dc6484422bc37676e3f2c52f9",
            "value": 1
          }
        },
        "6b656fec74a94e3eadddb52e566f1fd3": {
          "model_module": "@jupyter-widgets/controls",
          "model_name": "HTMLModel",
          "model_module_version": "1.5.0",
          "state": {
            "_dom_classes": [],
            "_model_module": "@jupyter-widgets/controls",
            "_model_module_version": "1.5.0",
            "_model_name": "HTMLModel",
            "_view_count": null,
            "_view_module": "@jupyter-widgets/controls",
            "_view_module_version": "1.5.0",
            "_view_name": "HTMLView",
            "description": "",
            "description_tooltip": null,
            "layout": "IPY_MODEL_72ea1b0ec48c4031bfd1c97f340880f0",
            "placeholder": "​",
            "style": "IPY_MODEL_a26f419f7bbc4d4aa31f196f8f807ba3",
            "value": " 1/1 [00:00&lt;00:00, 954.34it/s]"
          }
        },
        "f15d4458cc704f8986bc79d4ccce1d6a": {
          "model_module": "@jupyter-widgets/base",
          "model_name": "LayoutModel",
          "model_module_version": "1.2.0",
          "state": {
            "_model_module": "@jupyter-widgets/base",
            "_model_module_version": "1.2.0",
            "_model_name": "LayoutModel",
            "_view_count": null,
            "_view_module": "@jupyter-widgets/base",
            "_view_module_version": "1.2.0",
            "_view_name": "LayoutView",
            "align_content": null,
            "align_items": null,
            "align_self": null,
            "border": null,
            "bottom": null,
            "display": "inline-flex",
            "flex": null,
            "flex_flow": "row wrap",
            "grid_area": null,
            "grid_auto_columns": null,
            "grid_auto_flow": null,
            "grid_auto_rows": null,
            "grid_column": null,
            "grid_gap": null,
            "grid_row": null,
            "grid_template_areas": null,
            "grid_template_columns": null,
            "grid_template_rows": null,
            "height": null,
            "justify_content": null,
            "justify_items": null,
            "left": null,
            "margin": null,
            "max_height": null,
            "max_width": null,
            "min_height": null,
            "min_width": null,
            "object_fit": null,
            "object_position": null,
            "order": null,
            "overflow": null,
            "overflow_x": null,
            "overflow_y": null,
            "padding": null,
            "right": null,
            "top": null,
            "visibility": "hidden",
            "width": "100%"
          }
        },
        "1847748adc40458db942726575dcda56": {
          "model_module": "@jupyter-widgets/base",
          "model_name": "LayoutModel",
          "model_module_version": "1.2.0",
          "state": {
            "_model_module": "@jupyter-widgets/base",
            "_model_module_version": "1.2.0",
            "_model_name": "LayoutModel",
            "_view_count": null,
            "_view_module": "@jupyter-widgets/base",
            "_view_module_version": "1.2.0",
            "_view_name": "LayoutView",
            "align_content": null,
            "align_items": null,
            "align_self": null,
            "border": null,
            "bottom": null,
            "display": null,
            "flex": null,
            "flex_flow": null,
            "grid_area": null,
            "grid_auto_columns": null,
            "grid_auto_flow": null,
            "grid_auto_rows": null,
            "grid_column": null,
            "grid_gap": null,
            "grid_row": null,
            "grid_template_areas": null,
            "grid_template_columns": null,
            "grid_template_rows": null,
            "height": null,
            "justify_content": null,
            "justify_items": null,
            "left": null,
            "margin": null,
            "max_height": null,
            "max_width": null,
            "min_height": null,
            "min_width": null,
            "object_fit": null,
            "object_position": null,
            "order": null,
            "overflow": null,
            "overflow_x": null,
            "overflow_y": null,
            "padding": null,
            "right": null,
            "top": null,
            "visibility": null,
            "width": null
          }
        },
        "ef259c53d3e84ac0be1947b1f3b4e8f3": {
          "model_module": "@jupyter-widgets/controls",
          "model_name": "DescriptionStyleModel",
          "model_module_version": "1.5.0",
          "state": {
            "_model_module": "@jupyter-widgets/controls",
            "_model_module_version": "1.5.0",
            "_model_name": "DescriptionStyleModel",
            "_view_count": null,
            "_view_module": "@jupyter-widgets/base",
            "_view_module_version": "1.2.0",
            "_view_name": "StyleView",
            "description_width": ""
          }
        },
        "07c95e10020b4d67bce6fe834fd55af6": {
          "model_module": "@jupyter-widgets/base",
          "model_name": "LayoutModel",
          "model_module_version": "1.2.0",
          "state": {
            "_model_module": "@jupyter-widgets/base",
            "_model_module_version": "1.2.0",
            "_model_name": "LayoutModel",
            "_view_count": null,
            "_view_module": "@jupyter-widgets/base",
            "_view_module_version": "1.2.0",
            "_view_name": "LayoutView",
            "align_content": null,
            "align_items": null,
            "align_self": null,
            "border": null,
            "bottom": null,
            "display": null,
            "flex": "2",
            "flex_flow": null,
            "grid_area": null,
            "grid_auto_columns": null,
            "grid_auto_flow": null,
            "grid_auto_rows": null,
            "grid_column": null,
            "grid_gap": null,
            "grid_row": null,
            "grid_template_areas": null,
            "grid_template_columns": null,
            "grid_template_rows": null,
            "height": null,
            "justify_content": null,
            "justify_items": null,
            "left": null,
            "margin": null,
            "max_height": null,
            "max_width": null,
            "min_height": null,
            "min_width": null,
            "object_fit": null,
            "object_position": null,
            "order": null,
            "overflow": null,
            "overflow_x": null,
            "overflow_y": null,
            "padding": null,
            "right": null,
            "top": null,
            "visibility": null,
            "width": null
          }
        },
        "8c9be06dc6484422bc37676e3f2c52f9": {
          "model_module": "@jupyter-widgets/controls",
          "model_name": "ProgressStyleModel",
          "model_module_version": "1.5.0",
          "state": {
            "_model_module": "@jupyter-widgets/controls",
            "_model_module_version": "1.5.0",
            "_model_name": "ProgressStyleModel",
            "_view_count": null,
            "_view_module": "@jupyter-widgets/base",
            "_view_module_version": "1.2.0",
            "_view_name": "StyleView",
            "bar_color": null,
            "description_width": ""
          }
        },
        "72ea1b0ec48c4031bfd1c97f340880f0": {
          "model_module": "@jupyter-widgets/base",
          "model_name": "LayoutModel",
          "model_module_version": "1.2.0",
          "state": {
            "_model_module": "@jupyter-widgets/base",
            "_model_module_version": "1.2.0",
            "_model_name": "LayoutModel",
            "_view_count": null,
            "_view_module": "@jupyter-widgets/base",
            "_view_module_version": "1.2.0",
            "_view_name": "LayoutView",
            "align_content": null,
            "align_items": null,
            "align_self": null,
            "border": null,
            "bottom": null,
            "display": null,
            "flex": null,
            "flex_flow": null,
            "grid_area": null,
            "grid_auto_columns": null,
            "grid_auto_flow": null,
            "grid_auto_rows": null,
            "grid_column": null,
            "grid_gap": null,
            "grid_row": null,
            "grid_template_areas": null,
            "grid_template_columns": null,
            "grid_template_rows": null,
            "height": null,
            "justify_content": null,
            "justify_items": null,
            "left": null,
            "margin": null,
            "max_height": null,
            "max_width": null,
            "min_height": null,
            "min_width": null,
            "object_fit": null,
            "object_position": null,
            "order": null,
            "overflow": null,
            "overflow_x": null,
            "overflow_y": null,
            "padding": null,
            "right": null,
            "top": null,
            "visibility": null,
            "width": null
          }
        },
        "a26f419f7bbc4d4aa31f196f8f807ba3": {
          "model_module": "@jupyter-widgets/controls",
          "model_name": "DescriptionStyleModel",
          "model_module_version": "1.5.0",
          "state": {
            "_model_module": "@jupyter-widgets/controls",
            "_model_module_version": "1.5.0",
            "_model_name": "DescriptionStyleModel",
            "_view_count": null,
            "_view_module": "@jupyter-widgets/base",
            "_view_module_version": "1.2.0",
            "_view_name": "StyleView",
            "description_width": ""
          }
        },
        "5a7451b1f64c48529fadc70ac0b9c44d": {
          "model_module": "@jupyter-widgets/controls",
          "model_name": "HBoxModel",
          "model_module_version": "1.5.0",
          "state": {
            "_dom_classes": [],
            "_model_module": "@jupyter-widgets/controls",
            "_model_module_version": "1.5.0",
            "_model_name": "HBoxModel",
            "_view_count": null,
            "_view_module": "@jupyter-widgets/controls",
            "_view_module_version": "1.5.0",
            "_view_name": "HBoxView",
            "box_style": "",
            "children": [
              "IPY_MODEL_a3dfa34a5c134f10ad4a4135eaa544b5",
              "IPY_MODEL_0c983c61c8ed446fbdfe33158692d5a7",
              "IPY_MODEL_0e3e0951e67e42fdb5b49854fbcae39e"
            ],
            "layout": "IPY_MODEL_13a684b68b064553bff1e62acc7e9999"
          }
        },
        "a3dfa34a5c134f10ad4a4135eaa544b5": {
          "model_module": "@jupyter-widgets/controls",
          "model_name": "HTMLModel",
          "model_module_version": "1.5.0",
          "state": {
            "_dom_classes": [],
            "_model_module": "@jupyter-widgets/controls",
            "_model_module_version": "1.5.0",
            "_model_name": "HTMLModel",
            "_view_count": null,
            "_view_module": "@jupyter-widgets/controls",
            "_view_module_version": "1.5.0",
            "_view_name": "HTMLView",
            "description": "",
            "description_tooltip": null,
            "layout": "IPY_MODEL_87b8c270c6004cfc8d41158f772fc6b1",
            "placeholder": "​",
            "style": "IPY_MODEL_9689957b4d174d34a9543263e82d5c8a",
            "value": "Epoch 99: 100%"
          }
        },
        "0c983c61c8ed446fbdfe33158692d5a7": {
          "model_module": "@jupyter-widgets/controls",
          "model_name": "FloatProgressModel",
          "model_module_version": "1.5.0",
          "state": {
            "_dom_classes": [],
            "_model_module": "@jupyter-widgets/controls",
            "_model_module_version": "1.5.0",
            "_model_name": "FloatProgressModel",
            "_view_count": null,
            "_view_module": "@jupyter-widgets/controls",
            "_view_module_version": "1.5.0",
            "_view_name": "ProgressView",
            "bar_style": "success",
            "description": "",
            "description_tooltip": null,
            "layout": "IPY_MODEL_c1a934f317824c22adccc948e3edcac0",
            "max": 1,
            "min": 0,
            "orientation": "horizontal",
            "style": "IPY_MODEL_52d12aa98b6948a388875da3ac5e47c8",
            "value": 1
          }
        },
        "0e3e0951e67e42fdb5b49854fbcae39e": {
          "model_module": "@jupyter-widgets/controls",
          "model_name": "HTMLModel",
          "model_module_version": "1.5.0",
          "state": {
            "_dom_classes": [],
            "_model_module": "@jupyter-widgets/controls",
            "_model_module_version": "1.5.0",
            "_model_name": "HTMLModel",
            "_view_count": null,
            "_view_module": "@jupyter-widgets/controls",
            "_view_module_version": "1.5.0",
            "_view_name": "HTMLView",
            "description": "",
            "description_tooltip": null,
            "layout": "IPY_MODEL_03cdc61d50244558a1841e09ce4a7ee5",
            "placeholder": "​",
            "style": "IPY_MODEL_d9b3bae1d0504e77b03deb46b0beff9a",
            "value": " 1/1 [00:00&lt;00:00,  2.04it/s, v_num=0, train_loss_step=8.390, train_loss_epoch=8.390]"
          }
        },
        "13a684b68b064553bff1e62acc7e9999": {
          "model_module": "@jupyter-widgets/base",
          "model_name": "LayoutModel",
          "model_module_version": "1.2.0",
          "state": {
            "_model_module": "@jupyter-widgets/base",
            "_model_module_version": "1.2.0",
            "_model_name": "LayoutModel",
            "_view_count": null,
            "_view_module": "@jupyter-widgets/base",
            "_view_module_version": "1.2.0",
            "_view_name": "LayoutView",
            "align_content": null,
            "align_items": null,
            "align_self": null,
            "border": null,
            "bottom": null,
            "display": "inline-flex",
            "flex": null,
            "flex_flow": "row wrap",
            "grid_area": null,
            "grid_auto_columns": null,
            "grid_auto_flow": null,
            "grid_auto_rows": null,
            "grid_column": null,
            "grid_gap": null,
            "grid_row": null,
            "grid_template_areas": null,
            "grid_template_columns": null,
            "grid_template_rows": null,
            "height": null,
            "justify_content": null,
            "justify_items": null,
            "left": null,
            "margin": null,
            "max_height": null,
            "max_width": null,
            "min_height": null,
            "min_width": null,
            "object_fit": null,
            "object_position": null,
            "order": null,
            "overflow": null,
            "overflow_x": null,
            "overflow_y": null,
            "padding": null,
            "right": null,
            "top": null,
            "visibility": null,
            "width": "100%"
          }
        },
        "87b8c270c6004cfc8d41158f772fc6b1": {
          "model_module": "@jupyter-widgets/base",
          "model_name": "LayoutModel",
          "model_module_version": "1.2.0",
          "state": {
            "_model_module": "@jupyter-widgets/base",
            "_model_module_version": "1.2.0",
            "_model_name": "LayoutModel",
            "_view_count": null,
            "_view_module": "@jupyter-widgets/base",
            "_view_module_version": "1.2.0",
            "_view_name": "LayoutView",
            "align_content": null,
            "align_items": null,
            "align_self": null,
            "border": null,
            "bottom": null,
            "display": null,
            "flex": null,
            "flex_flow": null,
            "grid_area": null,
            "grid_auto_columns": null,
            "grid_auto_flow": null,
            "grid_auto_rows": null,
            "grid_column": null,
            "grid_gap": null,
            "grid_row": null,
            "grid_template_areas": null,
            "grid_template_columns": null,
            "grid_template_rows": null,
            "height": null,
            "justify_content": null,
            "justify_items": null,
            "left": null,
            "margin": null,
            "max_height": null,
            "max_width": null,
            "min_height": null,
            "min_width": null,
            "object_fit": null,
            "object_position": null,
            "order": null,
            "overflow": null,
            "overflow_x": null,
            "overflow_y": null,
            "padding": null,
            "right": null,
            "top": null,
            "visibility": null,
            "width": null
          }
        },
        "9689957b4d174d34a9543263e82d5c8a": {
          "model_module": "@jupyter-widgets/controls",
          "model_name": "DescriptionStyleModel",
          "model_module_version": "1.5.0",
          "state": {
            "_model_module": "@jupyter-widgets/controls",
            "_model_module_version": "1.5.0",
            "_model_name": "DescriptionStyleModel",
            "_view_count": null,
            "_view_module": "@jupyter-widgets/base",
            "_view_module_version": "1.2.0",
            "_view_name": "StyleView",
            "description_width": ""
          }
        },
        "c1a934f317824c22adccc948e3edcac0": {
          "model_module": "@jupyter-widgets/base",
          "model_name": "LayoutModel",
          "model_module_version": "1.2.0",
          "state": {
            "_model_module": "@jupyter-widgets/base",
            "_model_module_version": "1.2.0",
            "_model_name": "LayoutModel",
            "_view_count": null,
            "_view_module": "@jupyter-widgets/base",
            "_view_module_version": "1.2.0",
            "_view_name": "LayoutView",
            "align_content": null,
            "align_items": null,
            "align_self": null,
            "border": null,
            "bottom": null,
            "display": null,
            "flex": "2",
            "flex_flow": null,
            "grid_area": null,
            "grid_auto_columns": null,
            "grid_auto_flow": null,
            "grid_auto_rows": null,
            "grid_column": null,
            "grid_gap": null,
            "grid_row": null,
            "grid_template_areas": null,
            "grid_template_columns": null,
            "grid_template_rows": null,
            "height": null,
            "justify_content": null,
            "justify_items": null,
            "left": null,
            "margin": null,
            "max_height": null,
            "max_width": null,
            "min_height": null,
            "min_width": null,
            "object_fit": null,
            "object_position": null,
            "order": null,
            "overflow": null,
            "overflow_x": null,
            "overflow_y": null,
            "padding": null,
            "right": null,
            "top": null,
            "visibility": null,
            "width": null
          }
        },
        "52d12aa98b6948a388875da3ac5e47c8": {
          "model_module": "@jupyter-widgets/controls",
          "model_name": "ProgressStyleModel",
          "model_module_version": "1.5.0",
          "state": {
            "_model_module": "@jupyter-widgets/controls",
            "_model_module_version": "1.5.0",
            "_model_name": "ProgressStyleModel",
            "_view_count": null,
            "_view_module": "@jupyter-widgets/base",
            "_view_module_version": "1.2.0",
            "_view_name": "StyleView",
            "bar_color": null,
            "description_width": ""
          }
        },
        "03cdc61d50244558a1841e09ce4a7ee5": {
          "model_module": "@jupyter-widgets/base",
          "model_name": "LayoutModel",
          "model_module_version": "1.2.0",
          "state": {
            "_model_module": "@jupyter-widgets/base",
            "_model_module_version": "1.2.0",
            "_model_name": "LayoutModel",
            "_view_count": null,
            "_view_module": "@jupyter-widgets/base",
            "_view_module_version": "1.2.0",
            "_view_name": "LayoutView",
            "align_content": null,
            "align_items": null,
            "align_self": null,
            "border": null,
            "bottom": null,
            "display": null,
            "flex": null,
            "flex_flow": null,
            "grid_area": null,
            "grid_auto_columns": null,
            "grid_auto_flow": null,
            "grid_auto_rows": null,
            "grid_column": null,
            "grid_gap": null,
            "grid_row": null,
            "grid_template_areas": null,
            "grid_template_columns": null,
            "grid_template_rows": null,
            "height": null,
            "justify_content": null,
            "justify_items": null,
            "left": null,
            "margin": null,
            "max_height": null,
            "max_width": null,
            "min_height": null,
            "min_width": null,
            "object_fit": null,
            "object_position": null,
            "order": null,
            "overflow": null,
            "overflow_x": null,
            "overflow_y": null,
            "padding": null,
            "right": null,
            "top": null,
            "visibility": null,
            "width": null
          }
        },
        "d9b3bae1d0504e77b03deb46b0beff9a": {
          "model_module": "@jupyter-widgets/controls",
          "model_name": "DescriptionStyleModel",
          "model_module_version": "1.5.0",
          "state": {
            "_model_module": "@jupyter-widgets/controls",
            "_model_module_version": "1.5.0",
            "_model_name": "DescriptionStyleModel",
            "_view_count": null,
            "_view_module": "@jupyter-widgets/base",
            "_view_module_version": "1.2.0",
            "_view_name": "StyleView",
            "description_width": ""
          }
        },
        "34794e4023584a3b9bb7111e9d4a52ec": {
          "model_module": "@jupyter-widgets/controls",
          "model_name": "HBoxModel",
          "model_module_version": "1.5.0",
          "state": {
            "_dom_classes": [],
            "_model_module": "@jupyter-widgets/controls",
            "_model_module_version": "1.5.0",
            "_model_name": "HBoxModel",
            "_view_count": null,
            "_view_module": "@jupyter-widgets/controls",
            "_view_module_version": "1.5.0",
            "_view_name": "HBoxView",
            "box_style": "",
            "children": [
              "IPY_MODEL_18c247a6b0614b3ebf0edea4ce376d0c",
              "IPY_MODEL_bd630d05642748edbefec0f84ff0e00e",
              "IPY_MODEL_a5942199baee4d799e9dd407ce6e620d"
            ],
            "layout": "IPY_MODEL_c7fbb7e156cb44ee8a1cb2532a1b0efd"
          }
        },
        "18c247a6b0614b3ebf0edea4ce376d0c": {
          "model_module": "@jupyter-widgets/controls",
          "model_name": "HTMLModel",
          "model_module_version": "1.5.0",
          "state": {
            "_dom_classes": [],
            "_model_module": "@jupyter-widgets/controls",
            "_model_module_version": "1.5.0",
            "_model_name": "HTMLModel",
            "_view_count": null,
            "_view_module": "@jupyter-widgets/controls",
            "_view_module_version": "1.5.0",
            "_view_name": "HTMLView",
            "description": "",
            "description_tooltip": null,
            "layout": "IPY_MODEL_6398cf2a9ccc46f2bf7978e52a239529",
            "placeholder": "​",
            "style": "IPY_MODEL_fe9adfdc1a7c4c71afde77d143cd7854",
            "value": "Validation DataLoader 0: 100%"
          }
        },
        "bd630d05642748edbefec0f84ff0e00e": {
          "model_module": "@jupyter-widgets/controls",
          "model_name": "FloatProgressModel",
          "model_module_version": "1.5.0",
          "state": {
            "_dom_classes": [],
            "_model_module": "@jupyter-widgets/controls",
            "_model_module_version": "1.5.0",
            "_model_name": "FloatProgressModel",
            "_view_count": null,
            "_view_module": "@jupyter-widgets/controls",
            "_view_module_version": "1.5.0",
            "_view_name": "ProgressView",
            "bar_style": "",
            "description": "",
            "description_tooltip": null,
            "layout": "IPY_MODEL_be02ae6d20234af9a461ca0d850db3af",
            "max": 1,
            "min": 0,
            "orientation": "horizontal",
            "style": "IPY_MODEL_e3749152360141e8b342101a9c8b95df",
            "value": 1
          }
        },
        "a5942199baee4d799e9dd407ce6e620d": {
          "model_module": "@jupyter-widgets/controls",
          "model_name": "HTMLModel",
          "model_module_version": "1.5.0",
          "state": {
            "_dom_classes": [],
            "_model_module": "@jupyter-widgets/controls",
            "_model_module_version": "1.5.0",
            "_model_name": "HTMLModel",
            "_view_count": null,
            "_view_module": "@jupyter-widgets/controls",
            "_view_module_version": "1.5.0",
            "_view_name": "HTMLView",
            "description": "",
            "description_tooltip": null,
            "layout": "IPY_MODEL_73f6452f556f4b658e20f2ad758ce1cb",
            "placeholder": "​",
            "style": "IPY_MODEL_70100c8e2bae467bb4849eba64fe06c0",
            "value": " 1/1 [00:00&lt;00:00, 751.13it/s]"
          }
        },
        "c7fbb7e156cb44ee8a1cb2532a1b0efd": {
          "model_module": "@jupyter-widgets/base",
          "model_name": "LayoutModel",
          "model_module_version": "1.2.0",
          "state": {
            "_model_module": "@jupyter-widgets/base",
            "_model_module_version": "1.2.0",
            "_model_name": "LayoutModel",
            "_view_count": null,
            "_view_module": "@jupyter-widgets/base",
            "_view_module_version": "1.2.0",
            "_view_name": "LayoutView",
            "align_content": null,
            "align_items": null,
            "align_self": null,
            "border": null,
            "bottom": null,
            "display": "inline-flex",
            "flex": null,
            "flex_flow": "row wrap",
            "grid_area": null,
            "grid_auto_columns": null,
            "grid_auto_flow": null,
            "grid_auto_rows": null,
            "grid_column": null,
            "grid_gap": null,
            "grid_row": null,
            "grid_template_areas": null,
            "grid_template_columns": null,
            "grid_template_rows": null,
            "height": null,
            "justify_content": null,
            "justify_items": null,
            "left": null,
            "margin": null,
            "max_height": null,
            "max_width": null,
            "min_height": null,
            "min_width": null,
            "object_fit": null,
            "object_position": null,
            "order": null,
            "overflow": null,
            "overflow_x": null,
            "overflow_y": null,
            "padding": null,
            "right": null,
            "top": null,
            "visibility": "hidden",
            "width": "100%"
          }
        },
        "6398cf2a9ccc46f2bf7978e52a239529": {
          "model_module": "@jupyter-widgets/base",
          "model_name": "LayoutModel",
          "model_module_version": "1.2.0",
          "state": {
            "_model_module": "@jupyter-widgets/base",
            "_model_module_version": "1.2.0",
            "_model_name": "LayoutModel",
            "_view_count": null,
            "_view_module": "@jupyter-widgets/base",
            "_view_module_version": "1.2.0",
            "_view_name": "LayoutView",
            "align_content": null,
            "align_items": null,
            "align_self": null,
            "border": null,
            "bottom": null,
            "display": null,
            "flex": null,
            "flex_flow": null,
            "grid_area": null,
            "grid_auto_columns": null,
            "grid_auto_flow": null,
            "grid_auto_rows": null,
            "grid_column": null,
            "grid_gap": null,
            "grid_row": null,
            "grid_template_areas": null,
            "grid_template_columns": null,
            "grid_template_rows": null,
            "height": null,
            "justify_content": null,
            "justify_items": null,
            "left": null,
            "margin": null,
            "max_height": null,
            "max_width": null,
            "min_height": null,
            "min_width": null,
            "object_fit": null,
            "object_position": null,
            "order": null,
            "overflow": null,
            "overflow_x": null,
            "overflow_y": null,
            "padding": null,
            "right": null,
            "top": null,
            "visibility": null,
            "width": null
          }
        },
        "fe9adfdc1a7c4c71afde77d143cd7854": {
          "model_module": "@jupyter-widgets/controls",
          "model_name": "DescriptionStyleModel",
          "model_module_version": "1.5.0",
          "state": {
            "_model_module": "@jupyter-widgets/controls",
            "_model_module_version": "1.5.0",
            "_model_name": "DescriptionStyleModel",
            "_view_count": null,
            "_view_module": "@jupyter-widgets/base",
            "_view_module_version": "1.2.0",
            "_view_name": "StyleView",
            "description_width": ""
          }
        },
        "be02ae6d20234af9a461ca0d850db3af": {
          "model_module": "@jupyter-widgets/base",
          "model_name": "LayoutModel",
          "model_module_version": "1.2.0",
          "state": {
            "_model_module": "@jupyter-widgets/base",
            "_model_module_version": "1.2.0",
            "_model_name": "LayoutModel",
            "_view_count": null,
            "_view_module": "@jupyter-widgets/base",
            "_view_module_version": "1.2.0",
            "_view_name": "LayoutView",
            "align_content": null,
            "align_items": null,
            "align_self": null,
            "border": null,
            "bottom": null,
            "display": null,
            "flex": "2",
            "flex_flow": null,
            "grid_area": null,
            "grid_auto_columns": null,
            "grid_auto_flow": null,
            "grid_auto_rows": null,
            "grid_column": null,
            "grid_gap": null,
            "grid_row": null,
            "grid_template_areas": null,
            "grid_template_columns": null,
            "grid_template_rows": null,
            "height": null,
            "justify_content": null,
            "justify_items": null,
            "left": null,
            "margin": null,
            "max_height": null,
            "max_width": null,
            "min_height": null,
            "min_width": null,
            "object_fit": null,
            "object_position": null,
            "order": null,
            "overflow": null,
            "overflow_x": null,
            "overflow_y": null,
            "padding": null,
            "right": null,
            "top": null,
            "visibility": null,
            "width": null
          }
        },
        "e3749152360141e8b342101a9c8b95df": {
          "model_module": "@jupyter-widgets/controls",
          "model_name": "ProgressStyleModel",
          "model_module_version": "1.5.0",
          "state": {
            "_model_module": "@jupyter-widgets/controls",
            "_model_module_version": "1.5.0",
            "_model_name": "ProgressStyleModel",
            "_view_count": null,
            "_view_module": "@jupyter-widgets/base",
            "_view_module_version": "1.2.0",
            "_view_name": "StyleView",
            "bar_color": null,
            "description_width": ""
          }
        },
        "73f6452f556f4b658e20f2ad758ce1cb": {
          "model_module": "@jupyter-widgets/base",
          "model_name": "LayoutModel",
          "model_module_version": "1.2.0",
          "state": {
            "_model_module": "@jupyter-widgets/base",
            "_model_module_version": "1.2.0",
            "_model_name": "LayoutModel",
            "_view_count": null,
            "_view_module": "@jupyter-widgets/base",
            "_view_module_version": "1.2.0",
            "_view_name": "LayoutView",
            "align_content": null,
            "align_items": null,
            "align_self": null,
            "border": null,
            "bottom": null,
            "display": null,
            "flex": null,
            "flex_flow": null,
            "grid_area": null,
            "grid_auto_columns": null,
            "grid_auto_flow": null,
            "grid_auto_rows": null,
            "grid_column": null,
            "grid_gap": null,
            "grid_row": null,
            "grid_template_areas": null,
            "grid_template_columns": null,
            "grid_template_rows": null,
            "height": null,
            "justify_content": null,
            "justify_items": null,
            "left": null,
            "margin": null,
            "max_height": null,
            "max_width": null,
            "min_height": null,
            "min_width": null,
            "object_fit": null,
            "object_position": null,
            "order": null,
            "overflow": null,
            "overflow_x": null,
            "overflow_y": null,
            "padding": null,
            "right": null,
            "top": null,
            "visibility": null,
            "width": null
          }
        },
        "70100c8e2bae467bb4849eba64fe06c0": {
          "model_module": "@jupyter-widgets/controls",
          "model_name": "DescriptionStyleModel",
          "model_module_version": "1.5.0",
          "state": {
            "_model_module": "@jupyter-widgets/controls",
            "_model_module_version": "1.5.0",
            "_model_name": "DescriptionStyleModel",
            "_view_count": null,
            "_view_module": "@jupyter-widgets/base",
            "_view_module_version": "1.2.0",
            "_view_name": "StyleView",
            "description_width": ""
          }
        },
        "a4db438e2f1742b894c7a94412c73153": {
          "model_module": "@jupyter-widgets/controls",
          "model_name": "HBoxModel",
          "model_module_version": "1.5.0",
          "state": {
            "_dom_classes": [],
            "_model_module": "@jupyter-widgets/controls",
            "_model_module_version": "1.5.0",
            "_model_name": "HBoxModel",
            "_view_count": null,
            "_view_module": "@jupyter-widgets/controls",
            "_view_module_version": "1.5.0",
            "_view_name": "HBoxView",
            "box_style": "",
            "children": [
              "IPY_MODEL_0c13e802d4ae4bd78c78382f81e0a610",
              "IPY_MODEL_ba80e297b9ae4061b8716a6c7afbeab9",
              "IPY_MODEL_989e1e880bc242b8a94c4cbdb2109a81"
            ],
            "layout": "IPY_MODEL_24b2014790694b488ba3d5b10884274f"
          }
        },
        "0c13e802d4ae4bd78c78382f81e0a610": {
          "model_module": "@jupyter-widgets/controls",
          "model_name": "HTMLModel",
          "model_module_version": "1.5.0",
          "state": {
            "_dom_classes": [],
            "_model_module": "@jupyter-widgets/controls",
            "_model_module_version": "1.5.0",
            "_model_name": "HTMLModel",
            "_view_count": null,
            "_view_module": "@jupyter-widgets/controls",
            "_view_module_version": "1.5.0",
            "_view_name": "HTMLView",
            "description": "",
            "description_tooltip": null,
            "layout": "IPY_MODEL_89ff34891c954666bbab717f9ae0d212",
            "placeholder": "​",
            "style": "IPY_MODEL_c75202a3132f43fa832f309172232136",
            "value": "Predicting DataLoader 0: 100%"
          }
        },
        "ba80e297b9ae4061b8716a6c7afbeab9": {
          "model_module": "@jupyter-widgets/controls",
          "model_name": "FloatProgressModel",
          "model_module_version": "1.5.0",
          "state": {
            "_dom_classes": [],
            "_model_module": "@jupyter-widgets/controls",
            "_model_module_version": "1.5.0",
            "_model_name": "FloatProgressModel",
            "_view_count": null,
            "_view_module": "@jupyter-widgets/controls",
            "_view_module_version": "1.5.0",
            "_view_name": "ProgressView",
            "bar_style": "success",
            "description": "",
            "description_tooltip": null,
            "layout": "IPY_MODEL_342f8c2c09b346c986faa8cd3f980eab",
            "max": 1,
            "min": 0,
            "orientation": "horizontal",
            "style": "IPY_MODEL_23367011dfb143ea86fd8b49ad81751e",
            "value": 1
          }
        },
        "989e1e880bc242b8a94c4cbdb2109a81": {
          "model_module": "@jupyter-widgets/controls",
          "model_name": "HTMLModel",
          "model_module_version": "1.5.0",
          "state": {
            "_dom_classes": [],
            "_model_module": "@jupyter-widgets/controls",
            "_model_module_version": "1.5.0",
            "_model_name": "HTMLModel",
            "_view_count": null,
            "_view_module": "@jupyter-widgets/controls",
            "_view_module_version": "1.5.0",
            "_view_name": "HTMLView",
            "description": "",
            "description_tooltip": null,
            "layout": "IPY_MODEL_667e35ee321e4b10b3a0d231d1376545",
            "placeholder": "​",
            "style": "IPY_MODEL_18eefc47589346078667fb858965b098",
            "value": " 1/1 [00:00&lt;00:00, 75.96it/s]"
          }
        },
        "24b2014790694b488ba3d5b10884274f": {
          "model_module": "@jupyter-widgets/base",
          "model_name": "LayoutModel",
          "model_module_version": "1.2.0",
          "state": {
            "_model_module": "@jupyter-widgets/base",
            "_model_module_version": "1.2.0",
            "_model_name": "LayoutModel",
            "_view_count": null,
            "_view_module": "@jupyter-widgets/base",
            "_view_module_version": "1.2.0",
            "_view_name": "LayoutView",
            "align_content": null,
            "align_items": null,
            "align_self": null,
            "border": null,
            "bottom": null,
            "display": "inline-flex",
            "flex": null,
            "flex_flow": "row wrap",
            "grid_area": null,
            "grid_auto_columns": null,
            "grid_auto_flow": null,
            "grid_auto_rows": null,
            "grid_column": null,
            "grid_gap": null,
            "grid_row": null,
            "grid_template_areas": null,
            "grid_template_columns": null,
            "grid_template_rows": null,
            "height": null,
            "justify_content": null,
            "justify_items": null,
            "left": null,
            "margin": null,
            "max_height": null,
            "max_width": null,
            "min_height": null,
            "min_width": null,
            "object_fit": null,
            "object_position": null,
            "order": null,
            "overflow": null,
            "overflow_x": null,
            "overflow_y": null,
            "padding": null,
            "right": null,
            "top": null,
            "visibility": null,
            "width": "100%"
          }
        },
        "89ff34891c954666bbab717f9ae0d212": {
          "model_module": "@jupyter-widgets/base",
          "model_name": "LayoutModel",
          "model_module_version": "1.2.0",
          "state": {
            "_model_module": "@jupyter-widgets/base",
            "_model_module_version": "1.2.0",
            "_model_name": "LayoutModel",
            "_view_count": null,
            "_view_module": "@jupyter-widgets/base",
            "_view_module_version": "1.2.0",
            "_view_name": "LayoutView",
            "align_content": null,
            "align_items": null,
            "align_self": null,
            "border": null,
            "bottom": null,
            "display": null,
            "flex": null,
            "flex_flow": null,
            "grid_area": null,
            "grid_auto_columns": null,
            "grid_auto_flow": null,
            "grid_auto_rows": null,
            "grid_column": null,
            "grid_gap": null,
            "grid_row": null,
            "grid_template_areas": null,
            "grid_template_columns": null,
            "grid_template_rows": null,
            "height": null,
            "justify_content": null,
            "justify_items": null,
            "left": null,
            "margin": null,
            "max_height": null,
            "max_width": null,
            "min_height": null,
            "min_width": null,
            "object_fit": null,
            "object_position": null,
            "order": null,
            "overflow": null,
            "overflow_x": null,
            "overflow_y": null,
            "padding": null,
            "right": null,
            "top": null,
            "visibility": null,
            "width": null
          }
        },
        "c75202a3132f43fa832f309172232136": {
          "model_module": "@jupyter-widgets/controls",
          "model_name": "DescriptionStyleModel",
          "model_module_version": "1.5.0",
          "state": {
            "_model_module": "@jupyter-widgets/controls",
            "_model_module_version": "1.5.0",
            "_model_name": "DescriptionStyleModel",
            "_view_count": null,
            "_view_module": "@jupyter-widgets/base",
            "_view_module_version": "1.2.0",
            "_view_name": "StyleView",
            "description_width": ""
          }
        },
        "342f8c2c09b346c986faa8cd3f980eab": {
          "model_module": "@jupyter-widgets/base",
          "model_name": "LayoutModel",
          "model_module_version": "1.2.0",
          "state": {
            "_model_module": "@jupyter-widgets/base",
            "_model_module_version": "1.2.0",
            "_model_name": "LayoutModel",
            "_view_count": null,
            "_view_module": "@jupyter-widgets/base",
            "_view_module_version": "1.2.0",
            "_view_name": "LayoutView",
            "align_content": null,
            "align_items": null,
            "align_self": null,
            "border": null,
            "bottom": null,
            "display": null,
            "flex": "2",
            "flex_flow": null,
            "grid_area": null,
            "grid_auto_columns": null,
            "grid_auto_flow": null,
            "grid_auto_rows": null,
            "grid_column": null,
            "grid_gap": null,
            "grid_row": null,
            "grid_template_areas": null,
            "grid_template_columns": null,
            "grid_template_rows": null,
            "height": null,
            "justify_content": null,
            "justify_items": null,
            "left": null,
            "margin": null,
            "max_height": null,
            "max_width": null,
            "min_height": null,
            "min_width": null,
            "object_fit": null,
            "object_position": null,
            "order": null,
            "overflow": null,
            "overflow_x": null,
            "overflow_y": null,
            "padding": null,
            "right": null,
            "top": null,
            "visibility": null,
            "width": null
          }
        },
        "23367011dfb143ea86fd8b49ad81751e": {
          "model_module": "@jupyter-widgets/controls",
          "model_name": "ProgressStyleModel",
          "model_module_version": "1.5.0",
          "state": {
            "_model_module": "@jupyter-widgets/controls",
            "_model_module_version": "1.5.0",
            "_model_name": "ProgressStyleModel",
            "_view_count": null,
            "_view_module": "@jupyter-widgets/base",
            "_view_module_version": "1.2.0",
            "_view_name": "StyleView",
            "bar_color": null,
            "description_width": ""
          }
        },
        "667e35ee321e4b10b3a0d231d1376545": {
          "model_module": "@jupyter-widgets/base",
          "model_name": "LayoutModel",
          "model_module_version": "1.2.0",
          "state": {
            "_model_module": "@jupyter-widgets/base",
            "_model_module_version": "1.2.0",
            "_model_name": "LayoutModel",
            "_view_count": null,
            "_view_module": "@jupyter-widgets/base",
            "_view_module_version": "1.2.0",
            "_view_name": "LayoutView",
            "align_content": null,
            "align_items": null,
            "align_self": null,
            "border": null,
            "bottom": null,
            "display": null,
            "flex": null,
            "flex_flow": null,
            "grid_area": null,
            "grid_auto_columns": null,
            "grid_auto_flow": null,
            "grid_auto_rows": null,
            "grid_column": null,
            "grid_gap": null,
            "grid_row": null,
            "grid_template_areas": null,
            "grid_template_columns": null,
            "grid_template_rows": null,
            "height": null,
            "justify_content": null,
            "justify_items": null,
            "left": null,
            "margin": null,
            "max_height": null,
            "max_width": null,
            "min_height": null,
            "min_width": null,
            "object_fit": null,
            "object_position": null,
            "order": null,
            "overflow": null,
            "overflow_x": null,
            "overflow_y": null,
            "padding": null,
            "right": null,
            "top": null,
            "visibility": null,
            "width": null
          }
        },
        "18eefc47589346078667fb858965b098": {
          "model_module": "@jupyter-widgets/controls",
          "model_name": "DescriptionStyleModel",
          "model_module_version": "1.5.0",
          "state": {
            "_model_module": "@jupyter-widgets/controls",
            "_model_module_version": "1.5.0",
            "_model_name": "DescriptionStyleModel",
            "_view_count": null,
            "_view_module": "@jupyter-widgets/base",
            "_view_module_version": "1.2.0",
            "_view_name": "StyleView",
            "description_width": ""
          }
        }
      }
    }
  },
  "cells": [
    {
      "cell_type": "markdown",
      "source": [
        "Import Libraries"
      ],
      "metadata": {
        "id": "tNQGfUnWCJ0B"
      }
    },
    {
      "cell_type": "code",
      "source": [
        "!pip install neuralforecast\n",
        "import pandas as pd\n",
        "import numpy as np\n",
        "import torch\n",
        "import torch.nn as nn\n",
        "from torch.utils.data import DataLoader, TensorDataset\n",
        "from sklearn.metrics import mean_absolute_error, mean_squared_error\n",
        "from neuralforecast import NeuralForecast\n",
        "from neuralforecast.models import NHITS\n",
        "from neuralforecast.losses.pytorch import MSE"
      ],
      "metadata": {
        "colab": {
          "base_uri": "https://localhost:8080/",
          "height": 0
        },
        "id": "VoXhqDD_CM3o",
        "outputId": "44809162-f12b-4be1-f114-eb987d4a5b3c"
      },
      "execution_count": 2,
      "outputs": [
        {
          "output_type": "stream",
          "name": "stdout",
          "text": [
            "Collecting neuralforecast\n",
            "  Downloading neuralforecast-3.0.0-py3-none-any.whl.metadata (14 kB)\n",
            "Collecting coreforecast>=0.0.6 (from neuralforecast)\n",
            "  Downloading coreforecast-0.0.16-cp311-cp311-manylinux_2_17_x86_64.manylinux2014_x86_64.whl.metadata (3.7 kB)\n",
            "Requirement already satisfied: fsspec in /usr/local/lib/python3.11/dist-packages (from neuralforecast) (2025.3.2)\n",
            "Requirement already satisfied: numpy>=1.21.6 in /usr/local/lib/python3.11/dist-packages (from neuralforecast) (2.0.2)\n",
            "Requirement already satisfied: pandas>=1.3.5 in /usr/local/lib/python3.11/dist-packages (from neuralforecast) (2.2.2)\n",
            "Requirement already satisfied: torch>=2.0.0 in /usr/local/lib/python3.11/dist-packages (from neuralforecast) (2.6.0+cu124)\n",
            "Collecting pytorch-lightning>=2.0.0 (from neuralforecast)\n",
            "  Downloading pytorch_lightning-2.5.1.post0-py3-none-any.whl.metadata (20 kB)\n",
            "Collecting ray>=2.2.0 (from ray[tune]>=2.2.0->neuralforecast)\n",
            "  Downloading ray-2.45.0-cp311-cp311-manylinux2014_x86_64.whl.metadata (19 kB)\n",
            "Collecting optuna (from neuralforecast)\n",
            "  Downloading optuna-4.3.0-py3-none-any.whl.metadata (17 kB)\n",
            "Collecting utilsforecast>=0.2.3 (from neuralforecast)\n",
            "  Downloading utilsforecast-0.2.12-py3-none-any.whl.metadata (7.6 kB)\n",
            "Requirement already satisfied: python-dateutil>=2.8.2 in /usr/local/lib/python3.11/dist-packages (from pandas>=1.3.5->neuralforecast) (2.9.0.post0)\n",
            "Requirement already satisfied: pytz>=2020.1 in /usr/local/lib/python3.11/dist-packages (from pandas>=1.3.5->neuralforecast) (2025.2)\n",
            "Requirement already satisfied: tzdata>=2022.7 in /usr/local/lib/python3.11/dist-packages (from pandas>=1.3.5->neuralforecast) (2025.2)\n",
            "Requirement already satisfied: tqdm>=4.57.0 in /usr/local/lib/python3.11/dist-packages (from pytorch-lightning>=2.0.0->neuralforecast) (4.67.1)\n",
            "Requirement already satisfied: PyYAML>=5.4 in /usr/local/lib/python3.11/dist-packages (from pytorch-lightning>=2.0.0->neuralforecast) (6.0.2)\n",
            "Collecting torchmetrics>=0.7.0 (from pytorch-lightning>=2.0.0->neuralforecast)\n",
            "  Downloading torchmetrics-1.7.1-py3-none-any.whl.metadata (21 kB)\n",
            "Requirement already satisfied: packaging>=20.0 in /usr/local/lib/python3.11/dist-packages (from pytorch-lightning>=2.0.0->neuralforecast) (24.2)\n",
            "Requirement already satisfied: typing-extensions>=4.4.0 in /usr/local/lib/python3.11/dist-packages (from pytorch-lightning>=2.0.0->neuralforecast) (4.13.2)\n",
            "Collecting lightning-utilities>=0.10.0 (from pytorch-lightning>=2.0.0->neuralforecast)\n",
            "  Downloading lightning_utilities-0.14.3-py3-none-any.whl.metadata (5.6 kB)\n",
            "Requirement already satisfied: click>=7.0 in /usr/local/lib/python3.11/dist-packages (from ray>=2.2.0->ray[tune]>=2.2.0->neuralforecast) (8.1.8)\n",
            "Requirement already satisfied: filelock in /usr/local/lib/python3.11/dist-packages (from ray>=2.2.0->ray[tune]>=2.2.0->neuralforecast) (3.18.0)\n",
            "Requirement already satisfied: jsonschema in /usr/local/lib/python3.11/dist-packages (from ray>=2.2.0->ray[tune]>=2.2.0->neuralforecast) (4.23.0)\n",
            "Requirement already satisfied: msgpack<2.0.0,>=1.0.0 in /usr/local/lib/python3.11/dist-packages (from ray>=2.2.0->ray[tune]>=2.2.0->neuralforecast) (1.1.0)\n",
            "Requirement already satisfied: protobuf!=3.19.5,>=3.15.3 in /usr/local/lib/python3.11/dist-packages (from ray>=2.2.0->ray[tune]>=2.2.0->neuralforecast) (5.29.4)\n",
            "Requirement already satisfied: requests in /usr/local/lib/python3.11/dist-packages (from ray>=2.2.0->ray[tune]>=2.2.0->neuralforecast) (2.32.3)\n",
            "Collecting tensorboardX>=1.9 (from ray[tune]>=2.2.0->neuralforecast)\n",
            "  Downloading tensorboardX-2.6.2.2-py2.py3-none-any.whl.metadata (5.8 kB)\n",
            "Requirement already satisfied: pyarrow>=9.0.0 in /usr/local/lib/python3.11/dist-packages (from ray[tune]>=2.2.0->neuralforecast) (18.1.0)\n",
            "Requirement already satisfied: networkx in /usr/local/lib/python3.11/dist-packages (from torch>=2.0.0->neuralforecast) (3.4.2)\n",
            "Requirement already satisfied: jinja2 in /usr/local/lib/python3.11/dist-packages (from torch>=2.0.0->neuralforecast) (3.1.6)\n",
            "Collecting nvidia-cuda-nvrtc-cu12==12.4.127 (from torch>=2.0.0->neuralforecast)\n",
            "  Downloading nvidia_cuda_nvrtc_cu12-12.4.127-py3-none-manylinux2014_x86_64.whl.metadata (1.5 kB)\n",
            "Collecting nvidia-cuda-runtime-cu12==12.4.127 (from torch>=2.0.0->neuralforecast)\n",
            "  Downloading nvidia_cuda_runtime_cu12-12.4.127-py3-none-manylinux2014_x86_64.whl.metadata (1.5 kB)\n",
            "Collecting nvidia-cuda-cupti-cu12==12.4.127 (from torch>=2.0.0->neuralforecast)\n",
            "  Downloading nvidia_cuda_cupti_cu12-12.4.127-py3-none-manylinux2014_x86_64.whl.metadata (1.6 kB)\n",
            "Collecting nvidia-cudnn-cu12==9.1.0.70 (from torch>=2.0.0->neuralforecast)\n",
            "  Downloading nvidia_cudnn_cu12-9.1.0.70-py3-none-manylinux2014_x86_64.whl.metadata (1.6 kB)\n",
            "Collecting nvidia-cublas-cu12==12.4.5.8 (from torch>=2.0.0->neuralforecast)\n",
            "  Downloading nvidia_cublas_cu12-12.4.5.8-py3-none-manylinux2014_x86_64.whl.metadata (1.5 kB)\n",
            "Collecting nvidia-cufft-cu12==11.2.1.3 (from torch>=2.0.0->neuralforecast)\n",
            "  Downloading nvidia_cufft_cu12-11.2.1.3-py3-none-manylinux2014_x86_64.whl.metadata (1.5 kB)\n",
            "Collecting nvidia-curand-cu12==10.3.5.147 (from torch>=2.0.0->neuralforecast)\n",
            "  Downloading nvidia_curand_cu12-10.3.5.147-py3-none-manylinux2014_x86_64.whl.metadata (1.5 kB)\n",
            "Collecting nvidia-cusolver-cu12==11.6.1.9 (from torch>=2.0.0->neuralforecast)\n",
            "  Downloading nvidia_cusolver_cu12-11.6.1.9-py3-none-manylinux2014_x86_64.whl.metadata (1.6 kB)\n",
            "Collecting nvidia-cusparse-cu12==12.3.1.170 (from torch>=2.0.0->neuralforecast)\n",
            "  Downloading nvidia_cusparse_cu12-12.3.1.170-py3-none-manylinux2014_x86_64.whl.metadata (1.6 kB)\n",
            "Requirement already satisfied: nvidia-cusparselt-cu12==0.6.2 in /usr/local/lib/python3.11/dist-packages (from torch>=2.0.0->neuralforecast) (0.6.2)\n",
            "Requirement already satisfied: nvidia-nccl-cu12==2.21.5 in /usr/local/lib/python3.11/dist-packages (from torch>=2.0.0->neuralforecast) (2.21.5)\n",
            "Requirement already satisfied: nvidia-nvtx-cu12==12.4.127 in /usr/local/lib/python3.11/dist-packages (from torch>=2.0.0->neuralforecast) (12.4.127)\n",
            "Collecting nvidia-nvjitlink-cu12==12.4.127 (from torch>=2.0.0->neuralforecast)\n",
            "  Downloading nvidia_nvjitlink_cu12-12.4.127-py3-none-manylinux2014_x86_64.whl.metadata (1.5 kB)\n",
            "Requirement already satisfied: triton==3.2.0 in /usr/local/lib/python3.11/dist-packages (from torch>=2.0.0->neuralforecast) (3.2.0)\n",
            "Requirement already satisfied: sympy==1.13.1 in /usr/local/lib/python3.11/dist-packages (from torch>=2.0.0->neuralforecast) (1.13.1)\n",
            "Requirement already satisfied: mpmath<1.4,>=1.1.0 in /usr/local/lib/python3.11/dist-packages (from sympy==1.13.1->torch>=2.0.0->neuralforecast) (1.3.0)\n",
            "Collecting alembic>=1.5.0 (from optuna->neuralforecast)\n",
            "  Downloading alembic-1.15.2-py3-none-any.whl.metadata (7.3 kB)\n",
            "Collecting colorlog (from optuna->neuralforecast)\n",
            "  Downloading colorlog-6.9.0-py3-none-any.whl.metadata (10 kB)\n",
            "Requirement already satisfied: sqlalchemy>=1.4.2 in /usr/local/lib/python3.11/dist-packages (from optuna->neuralforecast) (2.0.40)\n",
            "Requirement already satisfied: Mako in /usr/lib/python3/dist-packages (from alembic>=1.5.0->optuna->neuralforecast) (1.1.3)\n",
            "Requirement already satisfied: aiohttp!=4.0.0a0,!=4.0.0a1 in /usr/local/lib/python3.11/dist-packages (from fsspec[http]>=2022.5.0->pytorch-lightning>=2.0.0->neuralforecast) (3.11.15)\n",
            "Requirement already satisfied: setuptools in /usr/local/lib/python3.11/dist-packages (from lightning-utilities>=0.10.0->pytorch-lightning>=2.0.0->neuralforecast) (75.2.0)\n",
            "Requirement already satisfied: six>=1.5 in /usr/local/lib/python3.11/dist-packages (from python-dateutil>=2.8.2->pandas>=1.3.5->neuralforecast) (1.17.0)\n",
            "Requirement already satisfied: greenlet>=1 in /usr/local/lib/python3.11/dist-packages (from sqlalchemy>=1.4.2->optuna->neuralforecast) (3.2.1)\n",
            "Requirement already satisfied: MarkupSafe>=2.0 in /usr/local/lib/python3.11/dist-packages (from jinja2->torch>=2.0.0->neuralforecast) (3.0.2)\n",
            "Requirement already satisfied: attrs>=22.2.0 in /usr/local/lib/python3.11/dist-packages (from jsonschema->ray>=2.2.0->ray[tune]>=2.2.0->neuralforecast) (25.3.0)\n",
            "Requirement already satisfied: jsonschema-specifications>=2023.03.6 in /usr/local/lib/python3.11/dist-packages (from jsonschema->ray>=2.2.0->ray[tune]>=2.2.0->neuralforecast) (2025.4.1)\n",
            "Requirement already satisfied: referencing>=0.28.4 in /usr/local/lib/python3.11/dist-packages (from jsonschema->ray>=2.2.0->ray[tune]>=2.2.0->neuralforecast) (0.36.2)\n",
            "Requirement already satisfied: rpds-py>=0.7.1 in /usr/local/lib/python3.11/dist-packages (from jsonschema->ray>=2.2.0->ray[tune]>=2.2.0->neuralforecast) (0.24.0)\n",
            "Requirement already satisfied: charset-normalizer<4,>=2 in /usr/local/lib/python3.11/dist-packages (from requests->ray>=2.2.0->ray[tune]>=2.2.0->neuralforecast) (3.4.1)\n",
            "Requirement already satisfied: idna<4,>=2.5 in /usr/local/lib/python3.11/dist-packages (from requests->ray>=2.2.0->ray[tune]>=2.2.0->neuralforecast) (3.10)\n",
            "Requirement already satisfied: urllib3<3,>=1.21.1 in /usr/local/lib/python3.11/dist-packages (from requests->ray>=2.2.0->ray[tune]>=2.2.0->neuralforecast) (2.4.0)\n",
            "Requirement already satisfied: certifi>=2017.4.17 in /usr/local/lib/python3.11/dist-packages (from requests->ray>=2.2.0->ray[tune]>=2.2.0->neuralforecast) (2025.4.26)\n",
            "Requirement already satisfied: aiohappyeyeballs>=2.3.0 in /usr/local/lib/python3.11/dist-packages (from aiohttp!=4.0.0a0,!=4.0.0a1->fsspec[http]>=2022.5.0->pytorch-lightning>=2.0.0->neuralforecast) (2.6.1)\n",
            "Requirement already satisfied: aiosignal>=1.1.2 in /usr/local/lib/python3.11/dist-packages (from aiohttp!=4.0.0a0,!=4.0.0a1->fsspec[http]>=2022.5.0->pytorch-lightning>=2.0.0->neuralforecast) (1.3.2)\n",
            "Requirement already satisfied: frozenlist>=1.1.1 in /usr/local/lib/python3.11/dist-packages (from aiohttp!=4.0.0a0,!=4.0.0a1->fsspec[http]>=2022.5.0->pytorch-lightning>=2.0.0->neuralforecast) (1.6.0)\n",
            "Requirement already satisfied: multidict<7.0,>=4.5 in /usr/local/lib/python3.11/dist-packages (from aiohttp!=4.0.0a0,!=4.0.0a1->fsspec[http]>=2022.5.0->pytorch-lightning>=2.0.0->neuralforecast) (6.4.3)\n",
            "Requirement already satisfied: propcache>=0.2.0 in /usr/local/lib/python3.11/dist-packages (from aiohttp!=4.0.0a0,!=4.0.0a1->fsspec[http]>=2022.5.0->pytorch-lightning>=2.0.0->neuralforecast) (0.3.1)\n",
            "Requirement already satisfied: yarl<2.0,>=1.17.0 in /usr/local/lib/python3.11/dist-packages (from aiohttp!=4.0.0a0,!=4.0.0a1->fsspec[http]>=2022.5.0->pytorch-lightning>=2.0.0->neuralforecast) (1.20.0)\n",
            "Downloading neuralforecast-3.0.0-py3-none-any.whl (257 kB)\n",
            "\u001b[2K   \u001b[90m━━━━━━━━━━━━━━━━━━━━━━━━━━━━━━━━━━━━━━━━\u001b[0m \u001b[32m257.7/257.7 kB\u001b[0m \u001b[31m5.4 MB/s\u001b[0m eta \u001b[36m0:00:00\u001b[0m\n",
            "\u001b[?25hDownloading coreforecast-0.0.16-cp311-cp311-manylinux_2_17_x86_64.manylinux2014_x86_64.whl (285 kB)\n",
            "\u001b[2K   \u001b[90m━━━━━━━━━━━━━━━━━━━━━━━━━━━━━━━━━━━━━━━━\u001b[0m \u001b[32m285.8/285.8 kB\u001b[0m \u001b[31m19.7 MB/s\u001b[0m eta \u001b[36m0:00:00\u001b[0m\n",
            "\u001b[?25hDownloading pytorch_lightning-2.5.1.post0-py3-none-any.whl (823 kB)\n",
            "\u001b[2K   \u001b[90m━━━━━━━━━━━━━━━━━━━━━━━━━━━━━━━━━━━━━━━━\u001b[0m \u001b[32m823.1/823.1 kB\u001b[0m \u001b[31m30.8 MB/s\u001b[0m eta \u001b[36m0:00:00\u001b[0m\n",
            "\u001b[?25hDownloading ray-2.45.0-cp311-cp311-manylinux2014_x86_64.whl (68.4 MB)\n",
            "\u001b[2K   \u001b[90m━━━━━━━━━━━━━━━━━━━━━━━━━━━━━━━━━━━━━━━━\u001b[0m \u001b[32m68.4/68.4 MB\u001b[0m \u001b[31m14.1 MB/s\u001b[0m eta \u001b[36m0:00:00\u001b[0m\n",
            "\u001b[?25hDownloading nvidia_cublas_cu12-12.4.5.8-py3-none-manylinux2014_x86_64.whl (363.4 MB)\n",
            "\u001b[2K   \u001b[90m━━━━━━━━━━━━━━━━━━━━━━━━━━━━━━━━━━━━━━━━\u001b[0m \u001b[32m363.4/363.4 MB\u001b[0m \u001b[31m4.5 MB/s\u001b[0m eta \u001b[36m0:00:00\u001b[0m\n",
            "\u001b[?25hDownloading nvidia_cuda_cupti_cu12-12.4.127-py3-none-manylinux2014_x86_64.whl (13.8 MB)\n",
            "\u001b[2K   \u001b[90m━━━━━━━━━━━━━━━━━━━━━━━━━━━━━━━━━━━━━━━━\u001b[0m \u001b[32m13.8/13.8 MB\u001b[0m \u001b[31m63.7 MB/s\u001b[0m eta \u001b[36m0:00:00\u001b[0m\n",
            "\u001b[?25hDownloading nvidia_cuda_nvrtc_cu12-12.4.127-py3-none-manylinux2014_x86_64.whl (24.6 MB)\n",
            "\u001b[2K   \u001b[90m━━━━━━━━━━━━━━━━━━━━━━━━━━━━━━━━━━━━━━━━\u001b[0m \u001b[32m24.6/24.6 MB\u001b[0m \u001b[31m35.3 MB/s\u001b[0m eta \u001b[36m0:00:00\u001b[0m\n",
            "\u001b[?25hDownloading nvidia_cuda_runtime_cu12-12.4.127-py3-none-manylinux2014_x86_64.whl (883 kB)\n",
            "\u001b[2K   \u001b[90m━━━━━━━━━━━━━━━━━━━━━━━━━━━━━━━━━━━━━━━━\u001b[0m \u001b[32m883.7/883.7 kB\u001b[0m \u001b[31m43.4 MB/s\u001b[0m eta \u001b[36m0:00:00\u001b[0m\n",
            "\u001b[?25hDownloading nvidia_cudnn_cu12-9.1.0.70-py3-none-manylinux2014_x86_64.whl (664.8 MB)\n",
            "\u001b[2K   \u001b[90m━━━━━━━━━━━━━━━━━━━━━━━━━━━━━━━━━━━━━━━━\u001b[0m \u001b[32m664.8/664.8 MB\u001b[0m \u001b[31m3.0 MB/s\u001b[0m eta \u001b[36m0:00:00\u001b[0m\n",
            "\u001b[?25hDownloading nvidia_cufft_cu12-11.2.1.3-py3-none-manylinux2014_x86_64.whl (211.5 MB)\n",
            "\u001b[2K   \u001b[90m━━━━━━━━━━━━━━━━━━━━━━━━━━━━━━━━━━━━━━━━\u001b[0m \u001b[32m211.5/211.5 MB\u001b[0m \u001b[31m5.8 MB/s\u001b[0m eta \u001b[36m0:00:00\u001b[0m\n",
            "\u001b[?25hDownloading nvidia_curand_cu12-10.3.5.147-py3-none-manylinux2014_x86_64.whl (56.3 MB)\n",
            "\u001b[2K   \u001b[90m━━━━━━━━━━━━━━━━━━━━━━━━━━━━━━━━━━━━━━━━\u001b[0m \u001b[32m56.3/56.3 MB\u001b[0m \u001b[31m14.7 MB/s\u001b[0m eta \u001b[36m0:00:00\u001b[0m\n",
            "\u001b[?25hDownloading nvidia_cusolver_cu12-11.6.1.9-py3-none-manylinux2014_x86_64.whl (127.9 MB)\n",
            "\u001b[2K   \u001b[90m━━━━━━━━━━━━━━━━━━━━━━━━━━━━━━━━━━━━━━━━\u001b[0m \u001b[32m127.9/127.9 MB\u001b[0m \u001b[31m7.6 MB/s\u001b[0m eta \u001b[36m0:00:00\u001b[0m\n",
            "\u001b[?25hDownloading nvidia_cusparse_cu12-12.3.1.170-py3-none-manylinux2014_x86_64.whl (207.5 MB)\n",
            "\u001b[2K   \u001b[90m━━━━━━━━━━━━━━━━━━━━━━━━━━━━━━━━━━━━━━━━\u001b[0m \u001b[32m207.5/207.5 MB\u001b[0m \u001b[31m5.6 MB/s\u001b[0m eta \u001b[36m0:00:00\u001b[0m\n",
            "\u001b[?25hDownloading nvidia_nvjitlink_cu12-12.4.127-py3-none-manylinux2014_x86_64.whl (21.1 MB)\n",
            "\u001b[2K   \u001b[90m━━━━━━━━━━━━━━━━━━━━━━━━━━━━━━━━━━━━━━━━\u001b[0m \u001b[32m21.1/21.1 MB\u001b[0m \u001b[31m91.3 MB/s\u001b[0m eta \u001b[36m0:00:00\u001b[0m\n",
            "\u001b[?25hDownloading utilsforecast-0.2.12-py3-none-any.whl (42 kB)\n",
            "\u001b[2K   \u001b[90m━━━━━━━━━━━━━━━━━━━━━━━━━━━━━━━━━━━━━━━━\u001b[0m \u001b[32m42.2/42.2 kB\u001b[0m \u001b[31m3.5 MB/s\u001b[0m eta \u001b[36m0:00:00\u001b[0m\n",
            "\u001b[?25hDownloading optuna-4.3.0-py3-none-any.whl (386 kB)\n",
            "\u001b[2K   \u001b[90m━━━━━━━━━━━━━━━━━━━━━━━━━━━━━━━━━━━━━━━━\u001b[0m \u001b[32m386.6/386.6 kB\u001b[0m \u001b[31m31.3 MB/s\u001b[0m eta \u001b[36m0:00:00\u001b[0m\n",
            "\u001b[?25hDownloading alembic-1.15.2-py3-none-any.whl (231 kB)\n",
            "\u001b[2K   \u001b[90m━━━━━━━━━━━━━━━━━━━━━━━━━━━━━━━━━━━━━━━━\u001b[0m \u001b[32m231.9/231.9 kB\u001b[0m \u001b[31m21.2 MB/s\u001b[0m eta \u001b[36m0:00:00\u001b[0m\n",
            "\u001b[?25hDownloading lightning_utilities-0.14.3-py3-none-any.whl (28 kB)\n",
            "Downloading tensorboardX-2.6.2.2-py2.py3-none-any.whl (101 kB)\n",
            "\u001b[2K   \u001b[90m━━━━━━━━━━━━━━━━━━━━━━━━━━━━━━━━━━━━━━━━\u001b[0m \u001b[32m101.7/101.7 kB\u001b[0m \u001b[31m10.8 MB/s\u001b[0m eta \u001b[36m0:00:00\u001b[0m\n",
            "\u001b[?25hDownloading torchmetrics-1.7.1-py3-none-any.whl (961 kB)\n",
            "\u001b[2K   \u001b[90m━━━━━━━━━━━━━━━━━━━━━━━━━━━━━━━━━━━━━━━━\u001b[0m \u001b[32m961.5/961.5 kB\u001b[0m \u001b[31m60.9 MB/s\u001b[0m eta \u001b[36m0:00:00\u001b[0m\n",
            "\u001b[?25hDownloading colorlog-6.9.0-py3-none-any.whl (11 kB)\n",
            "Installing collected packages: tensorboardX, nvidia-nvjitlink-cu12, nvidia-curand-cu12, nvidia-cufft-cu12, nvidia-cuda-runtime-cu12, nvidia-cuda-nvrtc-cu12, nvidia-cuda-cupti-cu12, nvidia-cublas-cu12, lightning-utilities, coreforecast, colorlog, nvidia-cusparse-cu12, nvidia-cudnn-cu12, alembic, utilsforecast, optuna, nvidia-cusolver-cu12, ray, torchmetrics, pytorch-lightning, neuralforecast\n",
            "  Attempting uninstall: nvidia-nvjitlink-cu12\n",
            "    Found existing installation: nvidia-nvjitlink-cu12 12.5.82\n",
            "    Uninstalling nvidia-nvjitlink-cu12-12.5.82:\n",
            "      Successfully uninstalled nvidia-nvjitlink-cu12-12.5.82\n",
            "  Attempting uninstall: nvidia-curand-cu12\n",
            "    Found existing installation: nvidia-curand-cu12 10.3.6.82\n",
            "    Uninstalling nvidia-curand-cu12-10.3.6.82:\n",
            "      Successfully uninstalled nvidia-curand-cu12-10.3.6.82\n",
            "  Attempting uninstall: nvidia-cufft-cu12\n",
            "    Found existing installation: nvidia-cufft-cu12 11.2.3.61\n",
            "    Uninstalling nvidia-cufft-cu12-11.2.3.61:\n",
            "      Successfully uninstalled nvidia-cufft-cu12-11.2.3.61\n",
            "  Attempting uninstall: nvidia-cuda-runtime-cu12\n",
            "    Found existing installation: nvidia-cuda-runtime-cu12 12.5.82\n",
            "    Uninstalling nvidia-cuda-runtime-cu12-12.5.82:\n",
            "      Successfully uninstalled nvidia-cuda-runtime-cu12-12.5.82\n",
            "  Attempting uninstall: nvidia-cuda-nvrtc-cu12\n",
            "    Found existing installation: nvidia-cuda-nvrtc-cu12 12.5.82\n",
            "    Uninstalling nvidia-cuda-nvrtc-cu12-12.5.82:\n",
            "      Successfully uninstalled nvidia-cuda-nvrtc-cu12-12.5.82\n",
            "  Attempting uninstall: nvidia-cuda-cupti-cu12\n",
            "    Found existing installation: nvidia-cuda-cupti-cu12 12.5.82\n",
            "    Uninstalling nvidia-cuda-cupti-cu12-12.5.82:\n",
            "      Successfully uninstalled nvidia-cuda-cupti-cu12-12.5.82\n",
            "  Attempting uninstall: nvidia-cublas-cu12\n",
            "    Found existing installation: nvidia-cublas-cu12 12.5.3.2\n",
            "    Uninstalling nvidia-cublas-cu12-12.5.3.2:\n",
            "      Successfully uninstalled nvidia-cublas-cu12-12.5.3.2\n",
            "  Attempting uninstall: nvidia-cusparse-cu12\n",
            "    Found existing installation: nvidia-cusparse-cu12 12.5.1.3\n",
            "    Uninstalling nvidia-cusparse-cu12-12.5.1.3:\n",
            "      Successfully uninstalled nvidia-cusparse-cu12-12.5.1.3\n",
            "  Attempting uninstall: nvidia-cudnn-cu12\n",
            "    Found existing installation: nvidia-cudnn-cu12 9.3.0.75\n",
            "    Uninstalling nvidia-cudnn-cu12-9.3.0.75:\n",
            "      Successfully uninstalled nvidia-cudnn-cu12-9.3.0.75\n",
            "  Attempting uninstall: nvidia-cusolver-cu12\n",
            "    Found existing installation: nvidia-cusolver-cu12 11.6.3.83\n",
            "    Uninstalling nvidia-cusolver-cu12-11.6.3.83:\n",
            "      Successfully uninstalled nvidia-cusolver-cu12-11.6.3.83\n",
            "Successfully installed alembic-1.15.2 colorlog-6.9.0 coreforecast-0.0.16 lightning-utilities-0.14.3 neuralforecast-3.0.0 nvidia-cublas-cu12-12.4.5.8 nvidia-cuda-cupti-cu12-12.4.127 nvidia-cuda-nvrtc-cu12-12.4.127 nvidia-cuda-runtime-cu12-12.4.127 nvidia-cudnn-cu12-9.1.0.70 nvidia-cufft-cu12-11.2.1.3 nvidia-curand-cu12-10.3.5.147 nvidia-cusolver-cu12-11.6.1.9 nvidia-cusparse-cu12-12.3.1.170 nvidia-nvjitlink-cu12-12.4.127 optuna-4.3.0 pytorch-lightning-2.5.1.post0 ray-2.45.0 tensorboardX-2.6.2.2 torchmetrics-1.7.1 utilsforecast-0.2.12\n"
          ]
        }
      ]
    },
    {
      "cell_type": "markdown",
      "source": [
        "Data Prep"
      ],
      "metadata": {
        "id": "hU6sBbijUQbG"
      }
    },
    {
      "cell_type": "code",
      "execution_count": 4,
      "metadata": {
        "id": "Q_-fWnf4UC8l",
        "colab": {
          "base_uri": "https://localhost:8080/",
          "height": 0
        },
        "outputId": "75253f31-50f3-410b-9bd1-76989cbc38ce"
      },
      "outputs": [
        {
          "output_type": "stream",
          "name": "stderr",
          "text": [
            "<ipython-input-4-7f17659fb045>:8: SettingWithCopyWarning: \n",
            "A value is trying to be set on a copy of a slice from a DataFrame.\n",
            "Try using .loc[row_indexer,col_indexer] = value instead\n",
            "\n",
            "See the caveats in the documentation: https://pandas.pydata.org/pandas-docs/stable/user_guide/indexing.html#returning-a-view-versus-a-copy\n",
            "  df['unique_id'] = 'sensor_1'\n"
          ]
        }
      ],
      "source": [
        "# Load and prepare dataset\n",
        "df = pd.read_csv(\"temperature.csv\", parse_dates=[\"datetime\"])\n",
        "# Convert datetime column using a more flexible parse due to format issues\n",
        "df['datetime'] = pd.to_datetime(df['datetime'], format='mixed', dayfirst=False)\n",
        "df.rename(columns={\"id\": \"unique_id\", \"datetime\": \"ds\", \"temp\": \"y\"}, inplace=True)\n",
        "#drop all unneeded columns\n",
        "df = df[['unique_id', 'ds', 'y']]\n",
        "df['unique_id'] = 'sensor_1'\n",
        "df = df.sort_values(\"ds\").dropna()\n",
        "# Sort by time\n",
        "df = df.sort_values(\"ds\")"
      ]
    },
    {
      "cell_type": "markdown",
      "source": [
        "Feature Engineering"
      ],
      "metadata": {
        "id": "rVgIyr-fHYgv"
      }
    },
    {
      "cell_type": "code",
      "source": [
        "# Add time-based and statistical features\n",
        "df['month'] = df['ds'].dt.month\n",
        "df['hour'] = df['ds'].dt.hour\n",
        "df['weekday'] = df['ds'].dt.weekday\n",
        "df['temp_delta'] = df['y'].diff().fillna(0)\n",
        "df['temp_roll_mean'] = df['y'].rolling(window=6, min_periods=1).mean()"
      ],
      "metadata": {
        "id": "t9nv6I8tDhnc"
      },
      "execution_count": 5,
      "outputs": []
    },
    {
      "cell_type": "markdown",
      "source": [
        "Training"
      ],
      "metadata": {
        "id": "YNSiIk-VHJ-k"
      }
    },
    {
      "cell_type": "code",
      "source": [
        "# Train/test split\n",
        "train_size = int(len(df) * 0.8)\n",
        "train_df = df.iloc[:train_size][['unique_id', 'ds', 'y']]\n",
        "test_df = df.iloc[train_size:][['unique_id', 'ds', 'y']]"
      ],
      "metadata": {
        "id": "ALyvXORmDjMH"
      },
      "execution_count": 6,
      "outputs": []
    },
    {
      "cell_type": "code",
      "source": [
        "# Train NHITS model\n",
        "model = NHITS(h=24, input_size=24, loss=MSE(), max_steps=100)\n",
        "nf = NeuralForecast(models=[model], freq='H')\n",
        "nf.fit(df=train_df)"
      ],
      "metadata": {
        "colab": {
          "base_uri": "https://localhost:8080/",
          "height": 379,
          "referenced_widgets": [
            "7ea1a0573a584381b773a6c1df639977",
            "3e2cf0ad31d446bdb511a948b1e9f2b4",
            "43b326f88e4444949950c8966fc91abc",
            "6b656fec74a94e3eadddb52e566f1fd3",
            "f15d4458cc704f8986bc79d4ccce1d6a",
            "1847748adc40458db942726575dcda56",
            "ef259c53d3e84ac0be1947b1f3b4e8f3",
            "07c95e10020b4d67bce6fe834fd55af6",
            "8c9be06dc6484422bc37676e3f2c52f9",
            "72ea1b0ec48c4031bfd1c97f340880f0",
            "a26f419f7bbc4d4aa31f196f8f807ba3",
            "5a7451b1f64c48529fadc70ac0b9c44d",
            "a3dfa34a5c134f10ad4a4135eaa544b5",
            "0c983c61c8ed446fbdfe33158692d5a7",
            "0e3e0951e67e42fdb5b49854fbcae39e",
            "13a684b68b064553bff1e62acc7e9999",
            "87b8c270c6004cfc8d41158f772fc6b1",
            "9689957b4d174d34a9543263e82d5c8a",
            "c1a934f317824c22adccc948e3edcac0",
            "52d12aa98b6948a388875da3ac5e47c8",
            "03cdc61d50244558a1841e09ce4a7ee5",
            "d9b3bae1d0504e77b03deb46b0beff9a",
            "34794e4023584a3b9bb7111e9d4a52ec",
            "18c247a6b0614b3ebf0edea4ce376d0c",
            "bd630d05642748edbefec0f84ff0e00e",
            "a5942199baee4d799e9dd407ce6e620d",
            "c7fbb7e156cb44ee8a1cb2532a1b0efd",
            "6398cf2a9ccc46f2bf7978e52a239529",
            "fe9adfdc1a7c4c71afde77d143cd7854",
            "be02ae6d20234af9a461ca0d850db3af",
            "e3749152360141e8b342101a9c8b95df",
            "73f6452f556f4b658e20f2ad758ce1cb",
            "70100c8e2bae467bb4849eba64fe06c0"
          ]
        },
        "id": "SO7gUFHpDl0j",
        "outputId": "872da865-5eba-4590-9e33-cfa645a46771"
      },
      "execution_count": 7,
      "outputs": [
        {
          "output_type": "stream",
          "name": "stderr",
          "text": [
            "INFO:lightning_fabric.utilities.seed:Seed set to 1\n",
            "INFO:pytorch_lightning.utilities.rank_zero:GPU available: False, used: False\n",
            "INFO:pytorch_lightning.utilities.rank_zero:TPU available: False, using: 0 TPU cores\n",
            "INFO:pytorch_lightning.utilities.rank_zero:HPU available: False, using: 0 HPUs\n",
            "INFO:pytorch_lightning.callbacks.model_summary:\n",
            "  | Name         | Type          | Params | Mode \n",
            "-------------------------------------------------------\n",
            "0 | loss         | MSE           | 0      | train\n",
            "1 | padder_train | ConstantPad1d | 0      | train\n",
            "2 | scaler       | TemporalNorm  | 0      | train\n",
            "3 | blocks       | ModuleList    | 2.4 M  | train\n",
            "-------------------------------------------------------\n",
            "2.4 M     Trainable params\n",
            "0         Non-trainable params\n",
            "2.4 M     Total params\n",
            "9.794     Total estimated model params size (MB)\n",
            "34        Modules in train mode\n",
            "0         Modules in eval mode\n"
          ]
        },
        {
          "output_type": "display_data",
          "data": {
            "text/plain": [
              "Sanity Checking: |          | 0/? [00:00<?, ?it/s]"
            ],
            "application/vnd.jupyter.widget-view+json": {
              "version_major": 2,
              "version_minor": 0,
              "model_id": "7ea1a0573a584381b773a6c1df639977"
            }
          },
          "metadata": {}
        },
        {
          "output_type": "display_data",
          "data": {
            "text/plain": [
              "Training: |          | 0/? [00:00<?, ?it/s]"
            ],
            "application/vnd.jupyter.widget-view+json": {
              "version_major": 2,
              "version_minor": 0,
              "model_id": "5a7451b1f64c48529fadc70ac0b9c44d"
            }
          },
          "metadata": {}
        },
        {
          "output_type": "display_data",
          "data": {
            "text/plain": [
              "Validation: |          | 0/? [00:00<?, ?it/s]"
            ],
            "application/vnd.jupyter.widget-view+json": {
              "version_major": 2,
              "version_minor": 0,
              "model_id": "34794e4023584a3b9bb7111e9d4a52ec"
            }
          },
          "metadata": {}
        },
        {
          "output_type": "stream",
          "name": "stderr",
          "text": [
            "INFO:pytorch_lightning.utilities.rank_zero:`Trainer.fit` stopped: `max_steps=100` reached.\n"
          ]
        }
      ]
    },
    {
      "cell_type": "markdown",
      "source": [
        "Forecast"
      ],
      "metadata": {
        "id": "luI2fSKJHqhQ"
      }
    },
    {
      "cell_type": "code",
      "source": [
        "# Forecast\n",
        "forecast_df = nf.predict()"
      ],
      "metadata": {
        "colab": {
          "base_uri": "https://localhost:8080/",
          "height": 171,
          "referenced_widgets": [
            "a4db438e2f1742b894c7a94412c73153",
            "0c13e802d4ae4bd78c78382f81e0a610",
            "ba80e297b9ae4061b8716a6c7afbeab9",
            "989e1e880bc242b8a94c4cbdb2109a81",
            "24b2014790694b488ba3d5b10884274f",
            "89ff34891c954666bbab717f9ae0d212",
            "c75202a3132f43fa832f309172232136",
            "342f8c2c09b346c986faa8cd3f980eab",
            "23367011dfb143ea86fd8b49ad81751e",
            "667e35ee321e4b10b3a0d231d1376545",
            "18eefc47589346078667fb858965b098"
          ]
        },
        "id": "7pfCW-QDDoTU",
        "outputId": "04ffff14-181d-460d-e58f-af75f640da84"
      },
      "execution_count": 8,
      "outputs": [
        {
          "output_type": "stream",
          "name": "stderr",
          "text": [
            "/usr/local/lib/python3.11/dist-packages/utilsforecast/processing.py:384: FutureWarning: 'H' is deprecated and will be removed in a future version, please use 'h' instead.\n",
            "  freq = pd.tseries.frequencies.to_offset(freq)\n",
            "/usr/local/lib/python3.11/dist-packages/utilsforecast/processing.py:440: FutureWarning: 'H' is deprecated and will be removed in a future version, please use 'h' instead.\n",
            "  freq = pd.tseries.frequencies.to_offset(freq)\n",
            "INFO:pytorch_lightning.utilities.rank_zero:GPU available: False, used: False\n",
            "INFO:pytorch_lightning.utilities.rank_zero:TPU available: False, using: 0 TPU cores\n",
            "INFO:pytorch_lightning.utilities.rank_zero:HPU available: False, using: 0 HPUs\n"
          ]
        },
        {
          "output_type": "display_data",
          "data": {
            "text/plain": [
              "Predicting: |          | 0/? [00:00<?, ?it/s]"
            ],
            "application/vnd.jupyter.widget-view+json": {
              "version_major": 2,
              "version_minor": 0,
              "model_id": "a4db438e2f1742b894c7a94412c73153"
            }
          },
          "metadata": {}
        }
      ]
    },
    {
      "cell_type": "markdown",
      "source": [
        "Evaluation and Generative Modeling VAE"
      ],
      "metadata": {
        "id": "b-yzq7xYHwmu"
      }
    },
    {
      "cell_type": "code",
      "source": [
        "# Evaluation\n",
        "y_pred = forecast_df['NHITS'].values\n",
        "y_true = test_df['y'].values[:len(y_pred)]\n",
        "\n",
        "mae = mean_absolute_error(y_true, y_pred)\n",
        "mse = mean_squared_error(y_true, y_pred)\n",
        "print(f\"MAE: {mae:.2f}, MSE: {mse:.2f}\")\n",
        "print(forecast_df.head())\n",
        "\n",
        "# --- VAE for Data Augmentation ---\n",
        "# Prepare data for VAE\n",
        "sequence_length = 24\n",
        "X = [df['y'].values[i:i + sequence_length] for i in range(len(df) - sequence_length)]\n",
        "X = torch.tensor(X, dtype=torch.float32)\n",
        "\n",
        "# Define VAE\n",
        "class VAE(nn.Module):\n",
        "    def __init__(self, input_dim=24, latent_dim=8):\n",
        "        super().__init__()\n",
        "        self.encoder = nn.Sequential(\n",
        "            nn.Linear(input_dim, 16),\n",
        "            nn.ReLU(),\n",
        "            nn.Linear(16, latent_dim)\n",
        "        )\n",
        "        self.decoder = nn.Sequential(\n",
        "            nn.Linear(latent_dim, 16),\n",
        "            nn.ReLU(),\n",
        "            nn.Linear(16, input_dim)\n",
        "        )\n",
        "\n",
        "    def forward(self, x):\n",
        "        z = self.encoder(x)\n",
        "        x_recon = self.decoder(z)\n",
        "        return x_recon\n",
        "\n",
        "# Train VAE\n",
        "vae = VAE()\n",
        "optimizer = torch.optim.Adam(vae.parameters(), lr=0.001)\n",
        "loss_fn = nn.MSELoss()\n",
        "loader = DataLoader(TensorDataset(X), batch_size=32, shuffle=True)\n",
        "\n",
        "for epoch in range(10):\n",
        "    for batch in loader:\n",
        "        x_batch = batch[0]\n",
        "        x_recon = vae(x_batch)\n",
        "        loss = loss_fn(x_recon, x_batch)\n",
        "        optimizer.zero_grad()\n",
        "        loss.backward()\n",
        "        optimizer.step()\n",
        "\n",
        "# Generate synthetic sequences\n",
        "with torch.no_grad():\n",
        "    z = torch.randn(100, 8)\n",
        "    synthetic = vae.decoder(z).numpy()\n",
        "\n",
        "print(\"Synthetic data shape:\", synthetic.shape)"
      ],
      "metadata": {
        "colab": {
          "base_uri": "https://localhost:8080/",
          "height": 0
        },
        "id": "eZjgwxEuDrTN",
        "outputId": "afa26d1e-fd25-4fea-8aa5-a0d7de0304a2"
      },
      "execution_count": 9,
      "outputs": [
        {
          "output_type": "stream",
          "name": "stdout",
          "text": [
            "MAE: 0.53, MSE: 0.41\n",
            "  unique_id                  ds      NHITS\n",
            "0  sensor_1 2018-11-09 13:52:00  33.267159\n",
            "1  sensor_1 2018-11-09 14:52:00  33.268593\n",
            "2  sensor_1 2018-11-09 15:52:00  33.219536\n",
            "3  sensor_1 2018-11-09 16:52:00  33.250832\n",
            "4  sensor_1 2018-11-09 17:52:00  33.227757\n"
          ]
        },
        {
          "output_type": "stream",
          "name": "stderr",
          "text": [
            "<ipython-input-9-afaaac952cc5>:14: UserWarning: Creating a tensor from a list of numpy.ndarrays is extremely slow. Please consider converting the list to a single numpy.ndarray with numpy.array() before converting to a tensor. (Triggered internally at /pytorch/torch/csrc/utils/tensor_new.cpp:254.)\n",
            "  X = torch.tensor(X, dtype=torch.float32)\n"
          ]
        },
        {
          "output_type": "stream",
          "name": "stdout",
          "text": [
            "Synthetic data shape: (100, 24)\n"
          ]
        }
      ]
    },
    {
      "cell_type": "markdown",
      "source": [
        "Convert and Save to New File"
      ],
      "metadata": {
        "id": "dWRB5wBpIFSY"
      }
    },
    {
      "cell_type": "code",
      "source": [
        "# Convert to DataFrame\n",
        "synthetic_df = pd.DataFrame(synthetic)\n",
        "synthetic_df.columns = [f\"step_{i}\" for i in range(1, 25)]\n",
        "\n",
        "# Optionally add an ID column\n",
        "synthetic_df[\"unique_id\"] = \"synthetic\""
      ],
      "metadata": {
        "id": "E7ctOQbyE6Uv"
      },
      "execution_count": 10,
      "outputs": []
    },
    {
      "cell_type": "code",
      "source": [
        "synthetic_df.to_csv(\"synthetic_temperature_data.csv\", index=False)\n",
        "print(\"Saved to synthetic_temperature_data.csv\")"
      ],
      "metadata": {
        "colab": {
          "base_uri": "https://localhost:8080/",
          "height": 0
        },
        "id": "yM_ueFgRFA4f",
        "outputId": "80647527-cb22-4156-b3f8-2619f510e33c"
      },
      "execution_count": 11,
      "outputs": [
        {
          "output_type": "stream",
          "name": "stdout",
          "text": [
            "Saved to synthetic_temperature_data.csv\n"
          ]
        }
      ]
    },
    {
      "cell_type": "markdown",
      "source": [
        "Data Visualization- Compare Original with Synthetic"
      ],
      "metadata": {
        "id": "NrkWYz8_IIVg"
      }
    },
    {
      "cell_type": "code",
      "source": [
        "import matplotlib.pyplot as plt\n",
        "\n",
        "# Plot original data (e.g., last 5 sequences of length 24)\n",
        "plt.figure(figsize=(14, 6))\n",
        "\n",
        "for i in range(5):\n",
        "    start_idx = -((i + 1) * 24)\n",
        "    end_idx = -(i * 24) if i > 0 else None\n",
        "    plt.plot(range(24), df['y'].values[start_idx:end_idx], color='blue', alpha=0.6, label='Original' if i == 0 else \"\")\n",
        "\n",
        "# Plot 5 synthetic sequences\n",
        "for i in range(5):\n",
        "    plt.plot(range(24), synthetic[i], color='red', alpha=0.6, linestyle='--', label='Synthetic' if i == 0 else \"\")\n",
        "\n",
        "# Labels and legend\n",
        "plt.title(\"Comparison of Original vs Synthetic Temperature Sequences\")\n",
        "plt.xlabel(\"Time step (hour)\")\n",
        "plt.ylabel(\"Temperature\")\n",
        "plt.legend()\n",
        "plt.grid(True)\n",
        "plt.tight_layout()\n",
        "plt.show()\n"
      ],
      "metadata": {
        "colab": {
          "base_uri": "https://localhost:8080/",
          "height": 607
        },
        "id": "mpLw7H8PFDhb",
        "outputId": "798edfd1-6f44-45b4-d043-505c7eefa404"
      },
      "execution_count": 12,
      "outputs": [
        {
          "output_type": "display_data",
          "data": {
            "text/plain": [
              "<Figure size 1400x600 with 1 Axes>"
            ],
            "image/png": "[encoded data removed]"
          },
          "metadata": {}
        }
      ]
    },
    {
      "cell_type": "code",
      "source": [
        "import numpy as np\n",
        "import matplotlib.pyplot as plt\n",
        "\n",
        "# Flatten synthetic data (100 sequences × 24 steps → 2400 values)\n",
        "synthetic_flat = synthetic.flatten()\n",
        "\n",
        "# Histogram\n",
        "plt.figure(figsize=(12, 5))\n",
        "plt.hist(df['y'], bins=50, alpha=0.6, label='Original', color='blue', density=True)\n",
        "plt.hist(synthetic_flat, bins=50, alpha=0.6, label='Synthetic', color='red', density=True)\n",
        "plt.title(\"Histogram of Temperature: Original vs Synthetic\")\n",
        "plt.xlabel(\"Temperature\")\n",
        "plt.ylabel(\"Density\")\n",
        "plt.legend()\n",
        "plt.grid(True)\n",
        "plt.tight_layout()\n",
        "plt.show()"
      ],
      "metadata": {
        "colab": {
          "base_uri": "https://localhost:8080/",
          "height": 507
        },
        "id": "n5tpKC8WIi_7",
        "outputId": "a23609bd-8308-4343-c984-f4df0aa7fc32"
      },
      "execution_count": 13,
      "outputs": [
        {
          "output_type": "display_data",
          "data": {
            "text/plain": [
              "<Figure size 1200x500 with 1 Axes>"
            ],
            "image/png": "[encoded data removed]"
          },
          "metadata": {}
        }
      ]
    },
    {
      "cell_type": "code",
      "source": [
        "orig_mean = df['y'].mean()\n",
        "orig_std = df['y'].std()\n",
        "syn_mean = synthetic_flat.mean()\n",
        "syn_std = synthetic_flat.std()\n",
        "\n",
        "print(f\"Original Mean: {orig_mean:.2f}, Std: {orig_std:.2f}\")\n",
        "print(f\"Synthetic Mean: {syn_mean:.2f}, Std: {syn_std:.2f}\")"
      ],
      "metadata": {
        "colab": {
          "base_uri": "https://localhost:8080/",
          "height": 0
        },
        "id": "DBNmJqacImW8",
        "outputId": "fa6e246a-7a00-45c4-c753-4c3c36a46a66"
      },
      "execution_count": 14,
      "outputs": [
        {
          "output_type": "stream",
          "name": "stdout",
          "text": [
            "Original Mean: 35.05, Std: 5.70\n",
            "Synthetic Mean: 0.34, Std: 0.36\n"
          ]
        }
      ]
    },
    {
      "cell_type": "code",
      "source": [
        "from scipy.stats import ks_2samp\n",
        "\n",
        "ks_stat, p_value = ks_2samp(df['y'].values, synthetic_flat)\n",
        "print(f\"KS Statistic: {ks_stat:.4f}, p-value: {p_value:.4f}\")"
      ],
      "metadata": {
        "colab": {
          "base_uri": "https://localhost:8080/",
          "height": 0
        },
        "id": "RJxcXTWHIq4X",
        "outputId": "708dab04-be41-4407-c997-f898b09f80fc"
      },
      "execution_count": 15,
      "outputs": [
        {
          "output_type": "stream",
          "name": "stdout",
          "text": [
            "KS Statistic: 1.0000, p-value: 0.0000\n"
          ]
        }
      ]
    },
    {
      "cell_type": "markdown",
      "source": [
        "This shows a drastic variation so I am going to change a few details and try again"
      ],
      "metadata": {
        "id": "7y88EIGvJHEk"
      }
    },
    {
      "cell_type": "code",
      "source": [
        "import pandas as pd\n",
        "import torch\n",
        "import torch.nn as nn\n",
        "from torch.utils.data import DataLoader, TensorDataset\n",
        "from sklearn.preprocessing import StandardScaler\n",
        "from sklearn.metrics import mean_squared_error\n",
        "from scipy.stats import ks_2samp\n",
        "import matplotlib.pyplot as plt\n",
        "import numpy as np\n",
        "\n",
        "# Load and prepare the data\n",
        "df = pd.read_csv(\"temperature.csv\", parse_dates=[\"datetime\"])\n",
        "df.rename(columns={\"datetime\": \"ds\", \"temp\": \"y\"}, inplace=True)\n",
        "df = df.sort_values(\"ds\")\n",
        "df['unique_id'] = 'sensor_1'\n",
        "df = df.dropna()\n",
        "\n",
        "# Normalize the target variable\n",
        "scaler = StandardScaler()\n",
        "df['y_scaled'] = scaler.fit_transform(df[['y']])\n",
        "\n",
        "# Build sequences\n",
        "sequence_length = 24\n",
        "X = [df['y_scaled'].values[i:i+sequence_length] for i in range(len(df)-sequence_length)]\n",
        "X = torch.tensor(X, dtype=torch.float32)\n",
        "\n",
        "# Define VAE\n",
        "class VAE(nn.Module):\n",
        "    def __init__(self, input_dim=24, latent_dim=8):\n",
        "        super().__init__()\n",
        "        self.encoder = nn.Sequential(\n",
        "            nn.Linear(input_dim, 16), nn.ReLU(),\n",
        "            nn.Linear(16, latent_dim)\n",
        "        )\n",
        "        self.decoder = nn.Sequential(\n",
        "            nn.Linear(latent_dim, 16), nn.ReLU(),\n",
        "            nn.Linear(16, input_dim)\n",
        "        )\n",
        "\n",
        "    def forward(self, x):\n",
        "        z = self.encoder(x)\n",
        "        x_recon = self.decoder(z)\n",
        "        return x_recon\n",
        "\n",
        "# Train VAE\n",
        "vae = VAE()\n",
        "optimizer = torch.optim.Adam(vae.parameters(), lr=0.001)\n",
        "loss_fn = nn.MSELoss()\n",
        "loader = DataLoader(TensorDataset(X), batch_size=32, shuffle=True)\n",
        "\n",
        "for epoch in range(10):\n",
        "    for batch in loader:\n",
        "        x_batch = batch[0]\n",
        "        x_recon = vae(x_batch)\n",
        "        loss = loss_fn(x_recon, x_batch)\n",
        "        optimizer.zero_grad()\n",
        "        loss.backward()\n",
        "        optimizer.step()\n",
        "\n",
        "# Generate synthetic data\n",
        "with torch.no_grad():\n",
        "    z = torch.randn(100, 8)  # 100 sequences\n",
        "    synthetic = vae.decoder(z).numpy()\n",
        "\n",
        "# Flatten and denormalize\n",
        "synthetic_flat = synthetic.flatten().reshape(-1, 1)\n",
        "synthetic_denorm = scaler.inverse_transform(synthetic_flat).flatten()\n",
        "\n",
        "# Save to CSV\n",
        "synthetic_df = pd.DataFrame({\n",
        "    'synthetic_temp': synthetic_denorm\n",
        "})\n",
        "synthetic_df.to_csv('synthetic_temperature.csv', index=False)\n",
        "\n",
        "# Evaluation\n",
        "original_sample = df['y'].values[:len(synthetic_denorm)]\n",
        "print(f\"Original Mean: {original_sample.mean():.2f}, Std: {original_sample.std():.2f}\")\n",
        "print(f\"Synthetic Mean: {synthetic_denorm.mean():.2f}, Std: {synthetic_denorm.std():.2f}\")\n",
        "\n",
        "ks_stat, ks_p = ks_2samp(original_sample, synthetic_denorm)\n",
        "print(f\"KS Statistic: {ks_stat:.4f}, p-value: {ks_p:.4f}\")\n",
        "\n",
        "# Plot comparison\n",
        "plt.figure(figsize=(10,5))\n",
        "plt.hist(original_sample, bins=30, alpha=0.6, label='Original')\n",
        "plt.hist(synthetic_denorm, bins=30, alpha=0.6, label='Synthetic')\n",
        "plt.title(\"Histogram: Original vs Synthetic Temperatures\")\n",
        "plt.xlabel(\"Temperature\")\n",
        "plt.ylabel(\"Frequency\")\n",
        "plt.legend()\n",
        "plt.tight_layout()\n",
        "plt.show()"
      ],
      "metadata": {
        "colab": {
          "base_uri": "https://localhost:8080/",
          "height": 559
        },
        "id": "JqdGWTEkJENU",
        "outputId": "71398138-b083-4e71-afd3-8e936cf5ae57"
      },
      "execution_count": 16,
      "outputs": [
        {
          "output_type": "stream",
          "name": "stdout",
          "text": [
            "Original Mean: 35.25, Std: 6.08\n",
            "Synthetic Mean: 33.89, Std: 5.06\n",
            "KS Statistic: 0.1692, p-value: 0.0000\n"
          ]
        },
        {
          "output_type": "display_data",
          "data": {
            "text/plain": [
              "<Figure size 1000x500 with 1 Axes>"
            ],
            "image/png": "[encoded data removed]"
          },
          "metadata": {}
        }
      ]
    },
    {
      "cell_type": "markdown",
      "source": [
        "This still gave me data that was off. I am increasing torch.randn(100,8). to 500. A higher number might give an even better result but I am using a CPU so I do not want to cause it to timeout by running to heavy a task"
      ],
      "metadata": {
        "id": "UFeWoLSNhNHu"
      }
    },
    {
      "cell_type": "code",
      "source": [
        "# Generate synthetic data\n",
        "with torch.no_grad():\n",
        "    z = torch.randn(500, 8)  # 500 sequences\n",
        "    synthetic = vae.decoder(z).numpy()\n",
        "\n",
        "# Flatten and denormalize\n",
        "synthetic_flat = synthetic.flatten().reshape(-1, 1)\n",
        "synthetic_denorm = scaler.inverse_transform(synthetic_flat).flatten()\n",
        "\n",
        "# Save to CSV\n",
        "synthetic_df = pd.DataFrame({\n",
        "    'synthetic_temp': synthetic_denorm\n",
        "})\n",
        "synthetic_df.to_csv('synthetic_temperature.csv', index=False)\n",
        "\n",
        "# Evaluation\n",
        "original_sample = df['y'].values[:len(synthetic_denorm)]\n",
        "print(f\"Original Mean: {original_sample.mean():.2f}, Std: {original_sample.std():.2f}\")\n",
        "print(f\"Synthetic Mean: {synthetic_denorm.mean():.2f}, Std: {synthetic_denorm.std():.2f}\")\n",
        "\n",
        "ks_stat, ks_p = ks_2samp(original_sample, synthetic_denorm)\n",
        "print(f\"KS Statistic: {ks_stat:.4f}, p-value: {ks_p:.4f}\")\n",
        "\n",
        "# Plot comparison\n",
        "plt.figure(figsize=(10,5))\n",
        "plt.hist(original_sample, bins=30, alpha=0.6, label='Original')\n",
        "plt.hist(synthetic_denorm, bins=30, alpha=0.6, label='Synthetic')\n",
        "plt.title(\"Histogram: Original vs Synthetic Temperatures\")\n",
        "plt.xlabel(\"Temperature\")\n",
        "plt.ylabel(\"Frequency\")\n",
        "plt.legend()\n",
        "plt.tight_layout()\n",
        "plt.show()"
      ],
      "metadata": {
        "colab": {
          "base_uri": "https://localhost:8080/",
          "height": 559
        },
        "id": "T8S9RYHAhSyT",
        "outputId": "0137c3f4-eccf-4e10-a96c-b09957cafed5"
      },
      "execution_count": 19,
      "outputs": [
        {
          "output_type": "stream",
          "name": "stdout",
          "text": [
            "Original Mean: 31.00, Std: 4.17\n",
            "Synthetic Mean: 34.43, Std: 5.27\n",
            "KS Statistic: 0.5115, p-value: 0.0000\n"
          ]
        },
        {
          "output_type": "display_data",
          "data": {
            "text/plain": [
              "<Figure size 1000x500 with 1 Axes>"
            ],
            "image/png": "[encoded data removed]"
          },
          "metadata": {}
        }
      ]
    },
    {
      "cell_type": "markdown",
      "source": [
        "This is still off. In troubleshooting, it may be due to scaling issues. One last try"
      ],
      "metadata": {
        "id": "HZG4zLXJisra"
      }
    },
    {
      "cell_type": "code",
      "source": [
        "# Load and prepare the data\n",
        "df = pd.read_csv(\"temperature.csv\", parse_dates=[\"datetime\"])\n",
        "df.rename(columns={\"datetime\": \"ds\", \"temp\": \"y\"}, inplace=True)\n",
        "df = df.sort_values(\"ds\")\n",
        "df['unique_id'] = 'sensor_1'\n",
        "df = df.dropna()\n",
        "\n",
        "# Normalize the target variable\n",
        "scaler = StandardScaler()\n",
        "df['y_scaled'] = scaler.fit_transform(df[['y']])\n",
        "\n",
        "# Build sequences\n",
        "sequence_length = 24\n",
        "X = [df['y_scaled'].values[i:i+sequence_length] for i in range(len(df)-sequence_length)]\n",
        "X = torch.tensor(X, dtype=torch.float32)\n",
        "\n",
        "# Define VAE\n",
        "class VAE(nn.Module):\n",
        "    def __init__(self, input_dim=24, latent_dim=8):\n",
        "        super().__init__()\n",
        "        self.encoder = nn.Sequential(\n",
        "            nn.Linear(input_dim, 16), nn.ReLU(),\n",
        "            nn.Linear(16, latent_dim)\n",
        "        )\n",
        "        self.decoder = nn.Sequential(\n",
        "            nn.Linear(latent_dim, 16), nn.ReLU(),\n",
        "            nn.Linear(16, input_dim)\n",
        "        )\n",
        "\n",
        "    def forward(self, x):\n",
        "        z = self.encoder(x)\n",
        "        x_recon = self.decoder(z)\n",
        "        return x_recon\n",
        "\n",
        "# Train VAE\n",
        "vae = VAE()\n",
        "optimizer = torch.optim.Adam(vae.parameters(), lr=0.001)\n",
        "loss_fn = nn.MSELoss()\n",
        "loader = DataLoader(TensorDataset(X), batch_size=32, shuffle=True)\n",
        "\n",
        "for epoch in range(50): #changing from 10 to 50\n",
        "    for batch in loader:\n",
        "        x_batch = batch[0]\n",
        "        x_recon = vae(x_batch)\n",
        "        loss = loss_fn(x_recon, x_batch)\n",
        "        optimizer.zero_grad()\n",
        "        loss.backward()\n",
        "        optimizer.step()\n",
        "\n",
        "# Generate synthetic data\n",
        "n_samples = len(df['y']) // 24\n",
        "with torch.no_grad():\n",
        "    z = torch.randn(n_samples, 8)  # keeping this change at 500\n",
        "    synthetic = vae.decoder(z).numpy()\n",
        "\n",
        "# Flatten and denormalize\n",
        "synthetic_flat = synthetic.flatten().reshape(-1, 1)\n",
        "synthetic_denorm = scaler.inverse_transform(synthetic_flat).flatten()\n",
        "\n",
        "# Save to CSV\n",
        "synthetic_df = pd.DataFrame({\n",
        "    'synthetic_temp': synthetic_denorm\n",
        "})\n",
        "synthetic_df.to_csv('synthetic_temperature.csv', index=False)\n",
        "\n",
        "# Evaluation\n",
        "original_sample = df['y'].values #changing this so it is the full original series\n",
        "print(f\"Original Mean: {original_sample.mean():.2f}, Std: {original_sample.std():.2f}\")\n",
        "print(f\"Synthetic Mean: {synthetic_denorm.mean():.2f}, Std: {synthetic_denorm.std():.2f}\")\n",
        "\n",
        "ks_stat, ks_p = ks_2samp(original_sample, synthetic_denorm)\n",
        "print(f\"KS Statistic: {ks_stat:.4f}, p-value: {ks_p:.4f}\")\n",
        "\n",
        "# Plot comparison\n",
        "plt.figure(figsize=(10,5))\n",
        "plt.hist(original_sample, bins=30, alpha=0.6, label='Original')\n",
        "plt.hist(synthetic_denorm, bins=30, alpha=0.6, label='Synthetic')\n",
        "plt.title(\"Histogram: Original vs Synthetic Temperatures\")\n",
        "plt.xlabel(\"Temperature\")\n",
        "plt.ylabel(\"Frequency\")\n",
        "plt.legend()\n",
        "plt.tight_layout()\n",
        "plt.show()"
      ],
      "metadata": {
        "colab": {
          "base_uri": "https://localhost:8080/",
          "height": 559
        },
        "id": "lhAR07JxkkkN",
        "outputId": "6e93cc66-b7bb-4662-9e41-3010a7731e02"
      },
      "execution_count": 27,
      "outputs": [
        {
          "output_type": "stream",
          "name": "stdout",
          "text": [
            "Original Mean: 35.05, Std: 5.70\n",
            "Synthetic Mean: 32.80, Std: 8.68\n",
            "KS Statistic: 0.2283, p-value: 0.0000\n"
          ]
        },
        {
          "output_type": "display_data",
          "data": {
            "text/plain": [
              "<Figure size 1000x500 with 1 Axes>"
            ],
            "image/png": "[encoded data removed]"
          },
          "metadata": {}
        }
      ]
    },
    {
      "cell_type": "markdown",
      "source": [
        "Above, I matched the original shape of the original data rather than generating less data. It is a closer match but still not statistically similar because of the difference in the distribution. Suggestions from AI tools suggest it is an issue with the model, so I will try one last time below"
      ],
      "metadata": {
        "id": "BJIuuu13rfUt"
      }
    },
    {
      "cell_type": "code",
      "source": [
        "import pandas as pd\n",
        "import numpy as np\n",
        "import torch\n",
        "import torch.nn as nn\n",
        "from torch.utils.data import DataLoader, TensorDataset\n",
        "from sklearn.preprocessing import StandardScaler\n",
        "from scipy.stats import ks_2samp\n",
        "import matplotlib.pyplot as plt\n",
        "\n",
        "# Load and prepare the data\n",
        "df = pd.read_csv(\"temperature.csv\", parse_dates=[\"datetime\"])\n",
        "df.rename(columns={\"datetime\": \"ds\", \"temp\": \"y\"}, inplace=True)\n",
        "df = df.sort_values(\"ds\")\n",
        "df['unique_id'] = 'sensor_1'\n",
        "df = df.dropna()\n",
        "\n",
        "# Normalize the target variable\n",
        "scaler = StandardScaler()\n",
        "df['y_scaled'] = scaler.fit_transform(df[['y']])\n",
        "\n",
        "# Build sequences (24-hour windows)\n",
        "sequence_length = 24\n",
        "X = [df['y_scaled'].values[i:i+sequence_length] for i in range(len(df) - sequence_length)]\n",
        "X = torch.tensor(X, dtype=torch.float32)\n",
        "\n",
        "# Define the Variational Autoencoder\n",
        "class VAE(nn.Module):\n",
        "    def __init__(self, input_dim=24, latent_dim=8):\n",
        "        super().__init__()\n",
        "        # Encoder\n",
        "        self.encoder_fc1 = nn.Linear(input_dim, 16)\n",
        "        self.encoder_fc2_mu = nn.Linear(16, latent_dim)\n",
        "        self.encoder_fc2_logvar = nn.Linear(16, latent_dim)\n",
        "        # Decoder\n",
        "        self.decoder = nn.Sequential(\n",
        "            nn.Linear(latent_dim, 16),\n",
        "            nn.ReLU(),\n",
        "            nn.Linear(16, input_dim)\n",
        "        )\n",
        "\n",
        "    def encode(self, x):\n",
        "        h = torch.relu(self.encoder_fc1(x))\n",
        "        mu = self.encoder_fc2_mu(h)\n",
        "        logvar = self.encoder_fc2_logvar(h)\n",
        "        return mu, logvar\n",
        "\n",
        "    def reparameterize(self, mu, logvar):\n",
        "        std = torch.exp(0.5 * logvar)\n",
        "        eps = torch.randn_like(std)\n",
        "        return mu + eps * std\n",
        "\n",
        "    def decode(self, z):\n",
        "        return self.decoder(z)\n",
        "\n",
        "    def forward(self, x):\n",
        "        mu, logvar = self.encode(x)\n",
        "        z = self.reparameterize(mu, logvar)\n",
        "        x_recon = self.decode(z)\n",
        "        return x_recon, mu, logvar\n",
        "\n",
        "# Training setup\n",
        "vae = VAE()\n",
        "optimizer = torch.optim.Adam(vae.parameters(), lr=0.001)\n",
        "loss_fn = nn.MSELoss()\n",
        "loader = DataLoader(TensorDataset(X), batch_size=32, shuffle=True)\n",
        "\n",
        "def kl_divergence(mu, logvar):\n",
        "    return -0.5 * torch.sum(1 + logvar - mu.pow(2) - logvar.exp(), dim=1).mean()\n",
        "\n",
        "# Train the VAE\n",
        "for epoch in range(50):\n",
        "    vae.train()\n",
        "    epoch_loss = 0\n",
        "    for batch in loader:\n",
        "        x_batch = batch[0]\n",
        "        x_recon, mu, logvar = vae(x_batch)\n",
        "        recon_loss = loss_fn(x_recon, x_batch)\n",
        "        kl_loss = kl_divergence(mu, logvar)\n",
        "        loss = recon_loss + kl_loss\n",
        "        optimizer.zero_grad()\n",
        "        loss.backward()\n",
        "        optimizer.step()\n",
        "        epoch_loss += loss.item()\n",
        "    print(f\"Epoch {epoch+1}, Loss: {epoch_loss / len(loader):.4f}\")\n",
        "\n",
        "# Generate synthetic sequences\n",
        "n_samples = len(df['y']) // sequence_length\n",
        "with torch.no_grad():\n",
        "    z = torch.randn(n_samples, 8)  # Now valid due to KL regularization\n",
        "    synthetic = vae.decode(z).numpy()\n",
        "\n",
        "# Flatten and denormalize\n",
        "synthetic_flat = synthetic.flatten().reshape(-1, 1)\n",
        "synthetic_denorm = scaler.inverse_transform(synthetic_flat).flatten()\n",
        "synthetic_denorm = synthetic_denorm[:len(df['y'])]  # Clip to match original length\n",
        "\n",
        "# Save synthetic data\n",
        "synthetic_df = pd.DataFrame({'synthetic_temp': synthetic_denorm})\n",
        "synthetic_df.to_csv(\"synthetic_temperature.csv\", index=False)\n",
        "\n",
        "# Evaluation\n",
        "original_sample = df['y'].values\n",
        "print(f\"Original Mean: {original_sample.mean():.2f}, Std: {original_sample.std():.2f}\")\n",
        "print(f\"Synthetic Mean: {synthetic_denorm.mean():.2f}, Std: {synthetic_denorm.std():.2f}\")\n",
        "\n",
        "ks_stat, ks_p = ks_2samp(original_sample, synthetic_denorm)\n",
        "print(f\"KS Statistic: {ks_stat:.4f}, p-value: {ks_p:.4f}\")\n",
        "\n",
        "# Plot histogram comparison\n",
        "plt.figure(figsize=(10, 5))\n",
        "plt.hist(original_sample, bins=30, alpha=0.6, label='Original')\n",
        "plt.hist(synthetic_denorm, bins=30, alpha=0.6, label='Synthetic')\n",
        "plt.title(\"Histogram: Original vs Synthetic Temperatures\")\n",
        "plt.xlabel(\"Temperature\")\n",
        "plt.ylabel(\"Frequency\")\n",
        "plt.legend()\n",
        "plt.tight_layout()\n",
        "plt.show()"
      ],
      "metadata": {
        "colab": {
          "base_uri": "https://localhost:8080/",
          "height": 1263
        },
        "id": "4rnCDITfvtsF",
        "outputId": "dd078706-3b50-4c98-86ed-468e747f175e"
      },
      "execution_count": 32,
      "outputs": [
        {
          "output_type": "stream",
          "name": "stdout",
          "text": [
            "Epoch 1, Loss: 0.9707\n",
            "Epoch 2, Loss: 0.9234\n",
            "Epoch 3, Loss: 0.9197\n",
            "Epoch 4, Loss: 0.9216\n",
            "Epoch 5, Loss: 0.9201\n",
            "Epoch 6, Loss: 0.9197\n",
            "Epoch 7, Loss: 0.9206\n",
            "Epoch 8, Loss: 0.9245\n",
            "Epoch 9, Loss: 0.9216\n",
            "Epoch 10, Loss: 0.9222\n",
            "Epoch 11, Loss: 0.9207\n",
            "Epoch 12, Loss: 0.9212\n",
            "Epoch 13, Loss: 0.9230\n",
            "Epoch 14, Loss: 0.9181\n",
            "Epoch 15, Loss: 0.9183\n",
            "Epoch 16, Loss: 0.9166\n",
            "Epoch 17, Loss: 0.9233\n",
            "Epoch 18, Loss: 0.9204\n",
            "Epoch 19, Loss: 0.9200\n",
            "Epoch 20, Loss: 0.9198\n",
            "Epoch 21, Loss: 0.9189\n",
            "Epoch 22, Loss: 0.9190\n",
            "Epoch 23, Loss: 0.9245\n",
            "Epoch 24, Loss: 0.9215\n",
            "Epoch 25, Loss: 0.9189\n",
            "Epoch 26, Loss: 0.9188\n",
            "Epoch 27, Loss: 0.9215\n",
            "Epoch 28, Loss: 0.9191\n",
            "Epoch 29, Loss: 0.9182\n",
            "Epoch 30, Loss: 0.9215\n",
            "Epoch 31, Loss: 0.9220\n",
            "Epoch 32, Loss: 0.9217\n",
            "Epoch 33, Loss: 0.9205\n",
            "Epoch 34, Loss: 0.9195\n",
            "Epoch 35, Loss: 0.9178\n",
            "Epoch 36, Loss: 0.9183\n",
            "Epoch 37, Loss: 0.9169\n",
            "Epoch 38, Loss: 0.9218\n",
            "Epoch 39, Loss: 0.9184\n",
            "Epoch 40, Loss: 0.9194\n",
            "Epoch 41, Loss: 0.9223\n",
            "Epoch 42, Loss: 0.9216\n",
            "Epoch 43, Loss: 0.9208\n",
            "Epoch 44, Loss: 0.9203\n",
            "Epoch 45, Loss: 0.9195\n",
            "Epoch 46, Loss: 0.9187\n",
            "Epoch 47, Loss: 0.9202\n",
            "Epoch 48, Loss: 0.9199\n",
            "Epoch 49, Loss: 0.9201\n",
            "Epoch 50, Loss: 0.9168\n",
            "Original Mean: 35.05, Std: 5.70\n",
            "Synthetic Mean: 35.01, Std: 3.27\n",
            "KS Statistic: 0.2469, p-value: 0.0000\n"
          ]
        },
        {
          "output_type": "display_data",
          "data": {
            "text/plain": [
              "<Figure size 1000x500 with 1 Axes>"
            ],
            "image/png": "[encoded data removed]"
          },
          "metadata": {}
        }
      ]
    },
    {
      "cell_type": "markdown",
      "source": [
        "This is a closer match to the original mean but still off. I feel this is a good place for me to stop for now, with room for improving the model later."
      ],
      "metadata": {
        "id": "qyovELFv0JV4"
      }
    }
  ]
}