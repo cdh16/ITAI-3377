{
 "cells": [
  {
   "cell_type": "code",
   "execution_count": null,
   "id": "1c879fa7",
   "metadata": {},
   "outputs": [],
   "source": [
    "import tensorflow as tf\n",
    "from tensorflow.keras.datasets import mnist\n",
    "\n",
    "#load the dataset\n",
    "(x_train, y_train), x_test, y_test) = mnist.load_data()"
   ]
  },
  {
   "cell_type": "code",
   "execution_count": null,
   "id": "87e15fc4",
   "metadata": {},
   "outputs": [],
   "source": [
    "#normalize the pixel values\n",
    "x_train, x_test = x_train / 255.0, x_test / 255.0\n",
    "\n",
    "#reshape data to add a channel dimension, 28x28 images with 1 channel for grayscale\n",
    "\n",
    "x_train = x_train.reshape((-1, 28, 28, 1))\n",
    "\n",
    "x_test = x_test.reshape((-1, 28, 28, 1))"
   ]
  },
  {
   "cell_type": "code",
   "execution_count": null,
   "id": "0cf6d92d",
   "metadata": {},
   "outputs": [],
   "source": [
    "# Define a simple Convolutional Neural Network (CNN) model\n",
    "\n",
    "model = tf.keras.Sequential([\n",
    "\n",
    "    tf.keras.layers.Conv2D(32, (3, 3), activation='relu', input_shape=(28, 28, 1)),\n",
    "\n",
    "    tf.keras.layers.MaxPooling2D((2, 2)),\n",
    "\n",
    "    tf.keras.layers.Flatten(),\n",
    "\n",
    "    tf.keras.layers.Dense(128, activation='relu'),\n",
    "\n",
    "    tf.keras.layers.Dense(10, activation='softmax')\n",
    "\n",
    "])\n",
    "\n",
    " \n",
    "\n",
    "# Compile the model with an optimizer, loss function, and metrics\n",
    "\n",
    "model.compile(optimizer='adam',\n",
    "\n",
    "              loss='sparse_categorical_crossentropy',\n",
    "\n",
    "              metrics=['accuracy'])\n",
    "\n",
    " \n",
    "\n",
    "# Train the model for 5 epochs and validate with test data\n",
    "\n",
    "model.fit(x_train, y_train, epochs=5, validation_data=(x_test, y_test))"
   ]
  },
  {
   "cell_type": "code",
   "execution_count": null,
   "id": "4c870465",
   "metadata": {},
   "outputs": [],
   "source": [
    "# Convert the trained Keras model to TensorFlow Lite (TFLite) format\n",
    "\n",
    "converter = tf.lite.TFLiteConverter.from_keras_model(model)\n",
    "\n",
    "tflite_model = converter.convert()\n",
    "\n",
    " \n",
    "\n",
    "# Save the TFLite model to a file named 'model.tflite'\n",
    "\n",
    "with open('model.tflite', 'wb') as f:\n",
    "\n",
    "    f.write(tflite_model)\n",
    "\n",
    " \n",
    "\n",
    "print(\"Model has been converted to TFLite and saved as 'model.tflite'\")"
   ]
  }
 ],
 "metadata": {
  "language_info": {
   "name": "python"
  }
 },
 "nbformat": 4,
 "nbformat_minor": 5
}
